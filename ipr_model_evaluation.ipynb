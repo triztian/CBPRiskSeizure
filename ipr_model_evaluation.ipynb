{
 "cells": [
  {
   "cell_type": "markdown",
   "metadata": {},
   "source": [
    "## Model Evaluation\n",
    "\n",
    "We'll now evaluate or model and see how it performs against a testing and cross-validation data set."
   ]
  },
  {
   "cell_type": "markdown",
   "metadata": {},
   "source": [
    "First, load the model:"
   ]
  },
  {
   "cell_type": "code",
   "execution_count": 53,
   "metadata": {},
   "outputs": [
    {
     "name": "stdout",
     "output_type": "stream",
     "text": [
      "The autoreload extension is already loaded. To reload it, use:\n",
      "  %reload_ext autoreload\n"
     ]
    }
   ],
   "source": [
    "%load_ext autoreload\n",
    "%autoreload 2\n",
    "\n",
    "import pandas as pd"
   ]
  },
  {
   "cell_type": "code",
   "execution_count": 2,
   "metadata": {},
   "outputs": [],
   "source": [
    "from feature_util import load_model_pickle\n",
    "\n",
    "model = load_model_pickle('models/ipr_model_202408180449.pkl')"
   ]
  },
  {
   "cell_type": "code",
   "execution_count": 3,
   "metadata": {},
   "outputs": [
    {
     "data": {
      "text/plain": [
       "array(['line_count', 'msrp', 'trading_partner_cn', 'trading_partner_hk',\n",
       "       'trading_partner_other_countries', 'trading_partner_sg',\n",
       "       'trading_partner_tr'], dtype=object)"
      ]
     },
     "execution_count": 3,
     "metadata": {},
     "output_type": "execute_result"
    }
   ],
   "source": [
    "model.feature_names_in_"
   ]
  },
  {
   "cell_type": "markdown",
   "metadata": {},
   "source": [
    "With the model loaded now we'll evaluate its performance against a triaining set:"
   ]
  },
  {
   "cell_type": "code",
   "execution_count": 4,
   "metadata": {},
   "outputs": [],
   "source": [
    "from feature_util import load_split\n",
    "\n",
    "y_name = 'seized'\n",
    "\n",
    "X_train, y_train = load_split('data/processed/ipr_data_processed_train.csv', y_name)\n",
    "X_test, y_test = load_split('data/processed/ipr_data_processed_test.csv', y_name)\n",
    "X_cv, y_cv = load_split('data/processed/ipr_data_processed_cv.csv', y_name)"
   ]
  },
  {
   "cell_type": "code",
   "execution_count": 5,
   "metadata": {},
   "outputs": [
    {
     "data": {
      "text/plain": [
       "(       line_count     msrp  trading_partner_cn  trading_partner_hk  \\\n",
       " 0               8   4620.0                   0                   0   \n",
       " 1              89  30690.0                   1                   0   \n",
       " 2             166  22400.0                   1                   0   \n",
       " 3               6  11000.0                   0                   1   \n",
       " 4              14   3120.0                   0                   0   \n",
       " ...           ...      ...                 ...                 ...   \n",
       " 66612           1  19990.0                   0                   1   \n",
       " 66613           2  88800.0                   1                   0   \n",
       " 66614          23   1125.0                   0                   0   \n",
       " 66615          71     24.0                   1                   0   \n",
       " 66616          41    295.0                   0                   0   \n",
       " \n",
       "        trading_partner_other_countries  trading_partner_sg  trading_partner_tr  \n",
       " 0                                    0                   0                   1  \n",
       " 1                                    0                   0                   0  \n",
       " 2                                    0                   0                   0  \n",
       " 3                                    0                   0                   0  \n",
       " 4                                    1                   0                   0  \n",
       " ...                                ...                 ...                 ...  \n",
       " 66612                                0                   0                   0  \n",
       " 66613                                0                   0                   0  \n",
       " 66614                                1                   0                   0  \n",
       " 66615                                0                   0                   0  \n",
       " 66616                                0                   0                   1  \n",
       " \n",
       " [66617 rows x 7 columns],\n",
       " 0        1.0\n",
       " 1        1.0\n",
       " 2        1.0\n",
       " 3        1.0\n",
       " 4        1.0\n",
       "         ... \n",
       " 66612    1.0\n",
       " 66613    1.0\n",
       " 66614    1.0\n",
       " 66615    1.0\n",
       " 66616    1.0\n",
       " Name: seized, Length: 66617, dtype: float64)"
      ]
     },
     "execution_count": 5,
     "metadata": {},
     "output_type": "execute_result"
    }
   ],
   "source": [
    "X_test, y_test"
   ]
  },
  {
   "cell_type": "code",
   "execution_count": 6,
   "metadata": {},
   "outputs": [
    {
     "data": {
      "text/plain": [
       "array([12.78173742,  0.        ,  0.        , ..., 14.26912733,\n",
       "        4.70233679,  3.43884422])"
      ]
     },
     "execution_count": 6,
     "metadata": {},
     "output_type": "execute_result"
    }
   ],
   "source": [
    "scores = model.score_samples(X_test)\n",
    "scores"
   ]
  },
  {
   "cell_type": "code",
   "execution_count": 7,
   "metadata": {},
   "outputs": [
    {
     "data": {
      "image/png": "[encoded data removed]",
      "text/plain": [
       "<Figure size 432x288 with 1 Axes>"
      ]
     },
     "metadata": {
      "needs_background": "light"
     },
     "output_type": "display_data"
    }
   ],
   "source": [
    "import matplotlib.pyplot as plt\n",
    "\n",
    "plt.hist(scores);"
   ]
  },
  {
   "cell_type": "code",
   "execution_count": 8,
   "metadata": {},
   "outputs": [],
   "source": [
    "import numpy as np\n",
    "\n",
    "np.save('models/ipr_model_20240817.1', scores)"
   ]
  },
  {
   "cell_type": "markdown",
   "metadata": {},
   "source": [
    "Lets also look at the classification report:"
   ]
  },
  {
   "cell_type": "code",
   "execution_count": 12,
   "metadata": {},
   "outputs": [
    {
     "name": "stdout",
     "output_type": "stream",
     "text": [
      "              precision    recall  f1-score   support\n",
      "\n",
      "        -1.0       0.00      0.00      0.00         0\n",
      "         1.0       1.00      0.40      0.57     66617\n",
      "\n",
      "    accuracy                           0.40     66617\n",
      "   macro avg       0.50      0.20      0.28     66617\n",
      "weighted avg       1.00      0.40      0.57     66617\n",
      "\n"
     ]
    }
   ],
   "source": [
    "from sklearn.metrics import classification_report\n",
    "\n",
    "y_pred = model.predict(X_test)\n",
    "\n",
    "print(classification_report(y_test, y_pred, zero_division=0))"
   ]
  },
  {
   "cell_type": "markdown",
   "metadata": {},
   "source": []
  },
  {
   "cell_type": "markdown",
   "metadata": {},
   "source": [
    "Next we'lll use the model on our company's product list"
   ]
  },
  {
   "cell_type": "code",
   "execution_count": 66,
   "metadata": {},
   "outputs": [
    {
     "name": "stdout",
     "output_type": "stream",
     "text": [
      "Total Records 4200\n"
     ]
    },
    {
     "data": {
      "text/html": [
       "<div>\n",
       "<style scoped>\n",
       "    .dataframe tbody tr th:only-of-type {\n",
       "        vertical-align: middle;\n",
       "    }\n",
       "\n",
       "    .dataframe tbody tr th {\n",
       "        vertical-align: top;\n",
       "    }\n",
       "\n",
       "    .dataframe thead th {\n",
       "        text-align: right;\n",
       "    }\n",
       "</style>\n",
       "<table border=\"1\" class=\"dataframe\">\n",
       "  <thead>\n",
       "    <tr style=\"text-align: right;\">\n",
       "      <th></th>\n",
       "      <th>line_count</th>\n",
       "      <th>msrp</th>\n",
       "      <th>trading_partner_cn</th>\n",
       "      <th>trading_partner_hk</th>\n",
       "      <th>trading_partner_other_countries</th>\n",
       "      <th>trading_partner_sg</th>\n",
       "      <th>trading_partner_tr</th>\n",
       "    </tr>\n",
       "  </thead>\n",
       "  <tbody>\n",
       "    <tr>\n",
       "      <th>count</th>\n",
       "      <td>4200.000000</td>\n",
       "      <td>4200.000000</td>\n",
       "      <td>4200.000000</td>\n",
       "      <td>4200.000000</td>\n",
       "      <td>4200.000000</td>\n",
       "      <td>4200.000000</td>\n",
       "      <td>4200.000000</td>\n",
       "    </tr>\n",
       "    <tr>\n",
       "      <th>mean</th>\n",
       "      <td>121.571429</td>\n",
       "      <td>24.713262</td>\n",
       "      <td>0.166667</td>\n",
       "      <td>0.166667</td>\n",
       "      <td>0.166667</td>\n",
       "      <td>0.166667</td>\n",
       "      <td>0.166667</td>\n",
       "    </tr>\n",
       "    <tr>\n",
       "      <th>std</th>\n",
       "      <td>253.094131</td>\n",
       "      <td>20.247834</td>\n",
       "      <td>0.372722</td>\n",
       "      <td>0.372722</td>\n",
       "      <td>0.372722</td>\n",
       "      <td>0.372722</td>\n",
       "      <td>0.372722</td>\n",
       "    </tr>\n",
       "    <tr>\n",
       "      <th>min</th>\n",
       "      <td>1.000000</td>\n",
       "      <td>4.767025</td>\n",
       "      <td>0.000000</td>\n",
       "      <td>0.000000</td>\n",
       "      <td>0.000000</td>\n",
       "      <td>0.000000</td>\n",
       "      <td>0.000000</td>\n",
       "    </tr>\n",
       "    <tr>\n",
       "      <th>25%</th>\n",
       "      <td>3.000000</td>\n",
       "      <td>11.935484</td>\n",
       "      <td>0.000000</td>\n",
       "      <td>0.000000</td>\n",
       "      <td>0.000000</td>\n",
       "      <td>0.000000</td>\n",
       "      <td>0.000000</td>\n",
       "    </tr>\n",
       "    <tr>\n",
       "      <th>50%</th>\n",
       "      <td>19.000000</td>\n",
       "      <td>17.909200</td>\n",
       "      <td>0.000000</td>\n",
       "      <td>0.000000</td>\n",
       "      <td>0.000000</td>\n",
       "      <td>0.000000</td>\n",
       "      <td>0.000000</td>\n",
       "    </tr>\n",
       "    <tr>\n",
       "      <th>75%</th>\n",
       "      <td>56.000000</td>\n",
       "      <td>30.101553</td>\n",
       "      <td>0.000000</td>\n",
       "      <td>0.000000</td>\n",
       "      <td>0.000000</td>\n",
       "      <td>0.000000</td>\n",
       "      <td>0.000000</td>\n",
       "    </tr>\n",
       "    <tr>\n",
       "      <th>max</th>\n",
       "      <td>740.000000</td>\n",
       "      <td>143.369176</td>\n",
       "      <td>1.000000</td>\n",
       "      <td>1.000000</td>\n",
       "      <td>1.000000</td>\n",
       "      <td>1.000000</td>\n",
       "      <td>1.000000</td>\n",
       "    </tr>\n",
       "  </tbody>\n",
       "</table>\n",
       "</div>"
      ],
      "text/plain": [
       "        line_count         msrp  trading_partner_cn  trading_partner_hk  \\\n",
       "count  4200.000000  4200.000000         4200.000000         4200.000000   \n",
       "mean    121.571429    24.713262            0.166667            0.166667   \n",
       "std     253.094131    20.247834            0.372722            0.372722   \n",
       "min       1.000000     4.767025            0.000000            0.000000   \n",
       "25%       3.000000    11.935484            0.000000            0.000000   \n",
       "50%      19.000000    17.909200            0.000000            0.000000   \n",
       "75%      56.000000    30.101553            0.000000            0.000000   \n",
       "max     740.000000   143.369176            1.000000            1.000000   \n",
       "\n",
       "       trading_partner_other_countries  trading_partner_sg  trading_partner_tr  \n",
       "count                      4200.000000         4200.000000         4200.000000  \n",
       "mean                          0.166667            0.166667            0.166667  \n",
       "std                           0.372722            0.372722            0.372722  \n",
       "min                           0.000000            0.000000            0.000000  \n",
       "25%                           0.000000            0.000000            0.000000  \n",
       "50%                           0.000000            0.000000            0.000000  \n",
       "75%                           0.000000            0.000000            0.000000  \n",
       "max                           1.000000            1.000000            1.000000  "
      ]
     },
     "execution_count": 66,
     "metadata": {},
     "output_type": "execute_result"
    }
   ],
   "source": [
    "from etl_hvi_data import load_processed\n",
    "\n",
    "hvi_processed_df = load_processed()\n",
    "hvi_processed_df = hvi_processed_df[model.feature_names_in_]\n",
    "\n",
    "print(\"Total Records\", len(hvi_processed_df))\n",
    "hvi_processed_df.describe()"
   ]
  },
  {
   "cell_type": "code",
   "execution_count": 77,
   "metadata": {},
   "outputs": [
    {
     "data": {
      "text/plain": [
       "array([-1,  1, -1, ..., -1, -1, -1])"
      ]
     },
     "execution_count": 77,
     "metadata": {},
     "output_type": "execute_result"
    }
   ],
   "source": [
    "seized_pred = model.predict(hvi_processed_df)\n",
    "seized_pred"
   ]
  },
  {
   "cell_type": "code",
   "execution_count": 78,
   "metadata": {},
   "outputs": [],
   "source": [
    "hvi_risk_df = hvi_processed_df.copy()\n",
    "hvi_risk_df['seized_pred'] = seized_pred"
   ]
  },
  {
   "cell_type": "code",
   "execution_count": 79,
   "metadata": {},
   "outputs": [
    {
     "data": {
      "text/html": [
       "<div>\n",
       "<style scoped>\n",
       "    .dataframe tbody tr th:only-of-type {\n",
       "        vertical-align: middle;\n",
       "    }\n",
       "\n",
       "    .dataframe tbody tr th {\n",
       "        vertical-align: top;\n",
       "    }\n",
       "\n",
       "    .dataframe thead th {\n",
       "        text-align: right;\n",
       "    }\n",
       "</style>\n",
       "<table border=\"1\" class=\"dataframe\">\n",
       "  <thead>\n",
       "    <tr style=\"text-align: right;\">\n",
       "      <th></th>\n",
       "      <th>line_count</th>\n",
       "      <th>msrp</th>\n",
       "      <th>trading_partner_cn</th>\n",
       "      <th>trading_partner_hk</th>\n",
       "      <th>trading_partner_other_countries</th>\n",
       "      <th>trading_partner_sg</th>\n",
       "      <th>trading_partner_tr</th>\n",
       "      <th>seized_pred</th>\n",
       "    </tr>\n",
       "  </thead>\n",
       "  <tbody>\n",
       "    <tr>\n",
       "      <th>count</th>\n",
       "      <td>4200.000000</td>\n",
       "      <td>4200.000000</td>\n",
       "      <td>4200.000000</td>\n",
       "      <td>4200.000000</td>\n",
       "      <td>4200.000000</td>\n",
       "      <td>4200.000000</td>\n",
       "      <td>4200.000000</td>\n",
       "      <td>4200.000000</td>\n",
       "    </tr>\n",
       "    <tr>\n",
       "      <th>mean</th>\n",
       "      <td>121.571429</td>\n",
       "      <td>24.713262</td>\n",
       "      <td>0.166667</td>\n",
       "      <td>0.166667</td>\n",
       "      <td>0.166667</td>\n",
       "      <td>0.166667</td>\n",
       "      <td>0.166667</td>\n",
       "      <td>-0.489048</td>\n",
       "    </tr>\n",
       "    <tr>\n",
       "      <th>std</th>\n",
       "      <td>253.094131</td>\n",
       "      <td>20.247834</td>\n",
       "      <td>0.372722</td>\n",
       "      <td>0.372722</td>\n",
       "      <td>0.372722</td>\n",
       "      <td>0.372722</td>\n",
       "      <td>0.372722</td>\n",
       "      <td>0.872361</td>\n",
       "    </tr>\n",
       "    <tr>\n",
       "      <th>min</th>\n",
       "      <td>1.000000</td>\n",
       "      <td>4.767025</td>\n",
       "      <td>0.000000</td>\n",
       "      <td>0.000000</td>\n",
       "      <td>0.000000</td>\n",
       "      <td>0.000000</td>\n",
       "      <td>0.000000</td>\n",
       "      <td>-1.000000</td>\n",
       "    </tr>\n",
       "    <tr>\n",
       "      <th>25%</th>\n",
       "      <td>3.000000</td>\n",
       "      <td>11.935484</td>\n",
       "      <td>0.000000</td>\n",
       "      <td>0.000000</td>\n",
       "      <td>0.000000</td>\n",
       "      <td>0.000000</td>\n",
       "      <td>0.000000</td>\n",
       "      <td>-1.000000</td>\n",
       "    </tr>\n",
       "    <tr>\n",
       "      <th>50%</th>\n",
       "      <td>19.000000</td>\n",
       "      <td>17.909200</td>\n",
       "      <td>0.000000</td>\n",
       "      <td>0.000000</td>\n",
       "      <td>0.000000</td>\n",
       "      <td>0.000000</td>\n",
       "      <td>0.000000</td>\n",
       "      <td>-1.000000</td>\n",
       "    </tr>\n",
       "    <tr>\n",
       "      <th>75%</th>\n",
       "      <td>56.000000</td>\n",
       "      <td>30.101553</td>\n",
       "      <td>0.000000</td>\n",
       "      <td>0.000000</td>\n",
       "      <td>0.000000</td>\n",
       "      <td>0.000000</td>\n",
       "      <td>0.000000</td>\n",
       "      <td>1.000000</td>\n",
       "    </tr>\n",
       "    <tr>\n",
       "      <th>max</th>\n",
       "      <td>740.000000</td>\n",
       "      <td>143.369176</td>\n",
       "      <td>1.000000</td>\n",
       "      <td>1.000000</td>\n",
       "      <td>1.000000</td>\n",
       "      <td>1.000000</td>\n",
       "      <td>1.000000</td>\n",
       "      <td>1.000000</td>\n",
       "    </tr>\n",
       "  </tbody>\n",
       "</table>\n",
       "</div>"
      ],
      "text/plain": [
       "        line_count         msrp  trading_partner_cn  trading_partner_hk  \\\n",
       "count  4200.000000  4200.000000         4200.000000         4200.000000   \n",
       "mean    121.571429    24.713262            0.166667            0.166667   \n",
       "std     253.094131    20.247834            0.372722            0.372722   \n",
       "min       1.000000     4.767025            0.000000            0.000000   \n",
       "25%       3.000000    11.935484            0.000000            0.000000   \n",
       "50%      19.000000    17.909200            0.000000            0.000000   \n",
       "75%      56.000000    30.101553            0.000000            0.000000   \n",
       "max     740.000000   143.369176            1.000000            1.000000   \n",
       "\n",
       "       trading_partner_other_countries  trading_partner_sg  \\\n",
       "count                      4200.000000         4200.000000   \n",
       "mean                          0.166667            0.166667   \n",
       "std                           0.372722            0.372722   \n",
       "min                           0.000000            0.000000   \n",
       "25%                           0.000000            0.000000   \n",
       "50%                           0.000000            0.000000   \n",
       "75%                           0.000000            0.000000   \n",
       "max                           1.000000            1.000000   \n",
       "\n",
       "       trading_partner_tr  seized_pred  \n",
       "count         4200.000000  4200.000000  \n",
       "mean             0.166667    -0.489048  \n",
       "std              0.372722     0.872361  \n",
       "min              0.000000    -1.000000  \n",
       "25%              0.000000    -1.000000  \n",
       "50%              0.000000    -1.000000  \n",
       "75%              0.000000     1.000000  \n",
       "max              1.000000     1.000000  "
      ]
     },
     "execution_count": 79,
     "metadata": {},
     "output_type": "execute_result"
    }
   ],
   "source": [
    "hvi_risk_df.describe()"
   ]
  },
  {
   "cell_type": "code",
   "execution_count": 80,
   "metadata": {},
   "outputs": [
    {
     "data": {
      "text/plain": [
       "count    4200.000000\n",
       "mean       -0.489048\n",
       "std         0.872361\n",
       "min        -1.000000\n",
       "25%        -1.000000\n",
       "50%        -1.000000\n",
       "75%         1.000000\n",
       "max         1.000000\n",
       "Name: seized_pred, dtype: float64"
      ]
     },
     "execution_count": 80,
     "metadata": {},
     "output_type": "execute_result"
    }
   ],
   "source": [
    "hvi_risk_df.seized_pred.describe()"
   ]
  },
  {
   "cell_type": "code",
   "execution_count": 81,
   "metadata": {},
   "outputs": [
    {
     "data": {
      "text/plain": [
       "seized_pred\n",
       "-1    3127\n",
       " 1    1073\n",
       "Name: count, dtype: int64"
      ]
     },
     "execution_count": 81,
     "metadata": {},
     "output_type": "execute_result"
    }
   ],
   "source": [
    "hvi_risk_df.seized_pred.value_counts()"
   ]
  },
  {
   "cell_type": "markdown",
   "metadata": {},
   "source": [
    "Before we save to disk, we'll convert back the dummy or one-hot encoded trading partner columns to a categorical one:"
   ]
  },
  {
   "cell_type": "code",
   "execution_count": 82,
   "metadata": {},
   "outputs": [
    {
     "name": "stdout",
     "output_type": "stream",
     "text": [
      "['trading_partner_cn', 'trading_partner_hk', 'trading_partner_other_countries', 'trading_partner_sg', 'trading_partner_tr']\n",
      "['cn', 'hk', 'other countries', 'sg', 'tr']\n"
     ]
    }
   ],
   "source": [
    "trading_partner_columns = [c for c in hvi_risk_df.columns if c.startswith(\"trading_partner_\")]\n",
    "trading_partner_values = [' '.join(c.split(\"_\")[2:]) for c in trending_partner_columns]\n",
    "\n",
    "print(trading_partner_columns)\n",
    "print(trading_partner_values)"
   ]
  },
  {
   "cell_type": "code",
   "execution_count": 85,
   "metadata": {},
   "outputs": [],
   "source": [
    "def trading_partner_categorical(x):\n",
    "    \"\"\"\n",
    "    Reverse encodes categorical values from dummy / OHE features to categorical labels\n",
    "    \"\"\"\n",
    "    try:\n",
    "        index = list(x[trending_partner_columns]).index(1)\n",
    "    except:\n",
    "        index = -1\n",
    "    trading_partner = trading_partner_values[index] if index != -1 else 'ca'\n",
    "    return trading_partner\n",
    "\n",
    "hvi_risk_df['trading_partner'] = hvi_risk_df.apply(trading_partner_categorical, axis='columns')"
   ]
  },
  {
   "cell_type": "code",
   "execution_count": 86,
   "metadata": {},
   "outputs": [
    {
     "data": {
      "text/plain": [
       "Index(['line_count', 'msrp', 'trading_partner_cn', 'trading_partner_hk',\n",
       "       'trading_partner_other_countries', 'trading_partner_sg',\n",
       "       'trading_partner_tr', 'seized_pred', 'trading_partner'],\n",
       "      dtype='object')"
      ]
     },
     "execution_count": 86,
     "metadata": {},
     "output_type": "execute_result"
    }
   ],
   "source": [
    "hvi_risk_df.columns"
   ]
  },
  {
   "cell_type": "code",
   "execution_count": 87,
   "metadata": {},
   "outputs": [
    {
     "data": {
      "text/plain": [
       "count     4200\n",
       "unique       6\n",
       "top         cn\n",
       "freq       700\n",
       "Name: trading_partner, dtype: object"
      ]
     },
     "execution_count": 87,
     "metadata": {},
     "output_type": "execute_result"
    }
   ],
   "source": [
    "hvi_risk_df.trading_partner.describe()"
   ]
  },
  {
   "cell_type": "code",
   "execution_count": 88,
   "metadata": {},
   "outputs": [],
   "source": [
    "hvi_risk_df.drop(columns=trading_partner_columns, inplace=True)"
   ]
  },
  {
   "cell_type": "code",
   "execution_count": 89,
   "metadata": {},
   "outputs": [
    {
     "data": {
      "text/plain": [
       "Index(['line_count', 'msrp', 'seized_pred', 'trading_partner'], dtype='object')"
      ]
     },
     "execution_count": 89,
     "metadata": {},
     "output_type": "execute_result"
    }
   ],
   "source": [
    "hvi_risk_df.columns"
   ]
  },
  {
   "cell_type": "markdown",
   "metadata": {},
   "source": [
    "Finally, now that we've run our model we can get an estimate of risk, the model will have predicted whether an particular product would've been seized or not and we'll use the sum of those seized vs not as the risk indicator\n",
    "\n",
    "  * `-1` -> Inliner or seized\n",
    "  * `1` -> Outlier or not seized\n",
    "\n",
    "To make it easier to identify we'll replace the values with values that simplify categorical and numerical opertions,\n",
    "\n",
    "  * `1` -> Seized\n",
    "  * `0` -> Not Seized"
   ]
  },
  {
   "cell_type": "code",
   "execution_count": 90,
   "metadata": {},
   "outputs": [],
   "source": [
    "hvi_risk_df['seized_pred'] = hvi_risk_df.seized_pred.apply(lambda x: 0 if x == 1 else 1)"
   ]
  },
  {
   "cell_type": "code",
   "execution_count": 91,
   "metadata": {},
   "outputs": [],
   "source": [
    "hvi_risk_df.drop(columns=[1, -1], inplace=True, errors='ignore')"
   ]
  },
  {
   "cell_type": "code",
   "execution_count": 92,
   "metadata": {},
   "outputs": [
    {
     "data": {
      "text/html": [
       "<div>\n",
       "<style scoped>\n",
       "    .dataframe tbody tr th:only-of-type {\n",
       "        vertical-align: middle;\n",
       "    }\n",
       "\n",
       "    .dataframe tbody tr th {\n",
       "        vertical-align: top;\n",
       "    }\n",
       "\n",
       "    .dataframe thead th {\n",
       "        text-align: right;\n",
       "    }\n",
       "</style>\n",
       "<table border=\"1\" class=\"dataframe\">\n",
       "  <thead>\n",
       "    <tr style=\"text-align: right;\">\n",
       "      <th></th>\n",
       "      <th>line_count</th>\n",
       "      <th>msrp</th>\n",
       "      <th>seized_pred</th>\n",
       "    </tr>\n",
       "  </thead>\n",
       "  <tbody>\n",
       "    <tr>\n",
       "      <th>count</th>\n",
       "      <td>4200.000000</td>\n",
       "      <td>4200.000000</td>\n",
       "      <td>4200.000000</td>\n",
       "    </tr>\n",
       "    <tr>\n",
       "      <th>mean</th>\n",
       "      <td>121.571429</td>\n",
       "      <td>24.713262</td>\n",
       "      <td>0.744524</td>\n",
       "    </tr>\n",
       "    <tr>\n",
       "      <th>std</th>\n",
       "      <td>253.094131</td>\n",
       "      <td>20.247834</td>\n",
       "      <td>0.436180</td>\n",
       "    </tr>\n",
       "    <tr>\n",
       "      <th>min</th>\n",
       "      <td>1.000000</td>\n",
       "      <td>4.767025</td>\n",
       "      <td>0.000000</td>\n",
       "    </tr>\n",
       "    <tr>\n",
       "      <th>25%</th>\n",
       "      <td>3.000000</td>\n",
       "      <td>11.935484</td>\n",
       "      <td>0.000000</td>\n",
       "    </tr>\n",
       "    <tr>\n",
       "      <th>50%</th>\n",
       "      <td>19.000000</td>\n",
       "      <td>17.909200</td>\n",
       "      <td>1.000000</td>\n",
       "    </tr>\n",
       "    <tr>\n",
       "      <th>75%</th>\n",
       "      <td>56.000000</td>\n",
       "      <td>30.101553</td>\n",
       "      <td>1.000000</td>\n",
       "    </tr>\n",
       "    <tr>\n",
       "      <th>max</th>\n",
       "      <td>740.000000</td>\n",
       "      <td>143.369176</td>\n",
       "      <td>1.000000</td>\n",
       "    </tr>\n",
       "  </tbody>\n",
       "</table>\n",
       "</div>"
      ],
      "text/plain": [
       "        line_count         msrp  seized_pred\n",
       "count  4200.000000  4200.000000  4200.000000\n",
       "mean    121.571429    24.713262     0.744524\n",
       "std     253.094131    20.247834     0.436180\n",
       "min       1.000000     4.767025     0.000000\n",
       "25%       3.000000    11.935484     0.000000\n",
       "50%      19.000000    17.909200     1.000000\n",
       "75%      56.000000    30.101553     1.000000\n",
       "max     740.000000   143.369176     1.000000"
      ]
     },
     "execution_count": 92,
     "metadata": {},
     "output_type": "execute_result"
    }
   ],
   "source": [
    "hvi_risk_df.describe()"
   ]
  },
  {
   "cell_type": "code",
   "execution_count": 93,
   "metadata": {},
   "outputs": [
    {
     "data": {
      "text/plain": [
       "seized_pred\n",
       "1    3127\n",
       "0    1073\n",
       "Name: count, dtype: int64"
      ]
     },
     "execution_count": 93,
     "metadata": {},
     "output_type": "execute_result"
    }
   ],
   "source": [
    "hvi_risk_df.seized_pred.value_counts()"
   ]
  },
  {
   "cell_type": "markdown",
   "metadata": {},
   "source": [
    "Finally, we'll save merge our risk dataset with the original product items to be able to draw conclusions from the risk profiles"
   ]
  },
  {
   "cell_type": "code",
   "execution_count": 94,
   "metadata": {},
   "outputs": [
    {
     "data": {
      "text/html": [
       "<div>\n",
       "<style scoped>\n",
       "    .dataframe tbody tr th:only-of-type {\n",
       "        vertical-align: middle;\n",
       "    }\n",
       "\n",
       "    .dataframe tbody tr th {\n",
       "        vertical-align: top;\n",
       "    }\n",
       "\n",
       "    .dataframe thead th {\n",
       "        text-align: right;\n",
       "    }\n",
       "</style>\n",
       "<table border=\"1\" class=\"dataframe\">\n",
       "  <thead>\n",
       "    <tr style=\"text-align: right;\">\n",
       "      <th></th>\n",
       "      <th>product_id</th>\n",
       "      <th>brand_name</th>\n",
       "      <th>trading_partner</th>\n",
       "      <th>line_count</th>\n",
       "      <th>msrp</th>\n",
       "      <th>seized_pred</th>\n",
       "    </tr>\n",
       "  </thead>\n",
       "  <tbody>\n",
       "    <tr>\n",
       "      <th>0</th>\n",
       "      <td>2296012</td>\n",
       "      <td>Roadster</td>\n",
       "      <td>cn</td>\n",
       "      <td>24</td>\n",
       "      <td>17.909200</td>\n",
       "      <td>1</td>\n",
       "    </tr>\n",
       "    <tr>\n",
       "      <th>1</th>\n",
       "      <td>13780156</td>\n",
       "      <td>LOCOMOTIVE</td>\n",
       "      <td>cn</td>\n",
       "      <td>24</td>\n",
       "      <td>13.727599</td>\n",
       "      <td>0</td>\n",
       "    </tr>\n",
       "    <tr>\n",
       "      <th>2</th>\n",
       "      <td>11895958</td>\n",
       "      <td>Roadster</td>\n",
       "      <td>cn</td>\n",
       "      <td>24</td>\n",
       "      <td>16.714456</td>\n",
       "      <td>1</td>\n",
       "    </tr>\n",
       "    <tr>\n",
       "      <th>3</th>\n",
       "      <td>4335679</td>\n",
       "      <td>Zivame</td>\n",
       "      <td>cn</td>\n",
       "      <td>24</td>\n",
       "      <td>15.471924</td>\n",
       "      <td>1</td>\n",
       "    </tr>\n",
       "    <tr>\n",
       "      <th>4</th>\n",
       "      <td>11690882</td>\n",
       "      <td>Roadster</td>\n",
       "      <td>cn</td>\n",
       "      <td>24</td>\n",
       "      <td>7.156511</td>\n",
       "      <td>1</td>\n",
       "    </tr>\n",
       "  </tbody>\n",
       "</table>\n",
       "</div>"
      ],
      "text/plain": [
       "   product_id  brand_name trading_partner  line_count       msrp  seized_pred\n",
       "0     2296012    Roadster              cn          24  17.909200            1\n",
       "1    13780156  LOCOMOTIVE              cn          24  13.727599            0\n",
       "2    11895958    Roadster              cn          24  16.714456            1\n",
       "3     4335679      Zivame              cn          24  15.471924            1\n",
       "4    11690882    Roadster              cn          24   7.156511            1"
      ]
     },
     "execution_count": 94,
     "metadata": {},
     "output_type": "execute_result"
    }
   ],
   "source": [
    "from etl_hvi_data import load_processed\n",
    "\n",
    "hvi_products = load_processed()\n",
    "hvi_products_temp_df = pd.concat([hvi_risk_df, hvi_products[['product_id', 'brand_name']]], axis='columns')\n",
    "hvi_processed_df = hvi_products_temp_df[['product_id', 'brand_name', 'trading_partner', 'line_count', 'msrp', 'seized_pred']]\n",
    "hvi_processed_df.head()\n"
   ]
  },
  {
   "cell_type": "code",
   "execution_count": 95,
   "metadata": {},
   "outputs": [],
   "source": [
    "hvi_processed_df.to_csv(\"data/processed/hvi_products_risk.csv\", index=False)"
   ]
  }
 ],
 "metadata": {
  "kernelspec": {
   "display_name": "Python 3",
   "language": "python",
   "name": "python3"
  },
  "language_info": {
   "codemirror_mode": {
    "name": "ipython",
    "version": 3
   },
   "file_extension": ".py",
   "mimetype": "text/x-python",
   "name": "python",
   "nbconvert_exporter": "python",
   "pygments_lexer": "ipython3",
   "version": "3.8.2"
  }
 },
 "nbformat": 4,
 "nbformat_minor": 2
}
