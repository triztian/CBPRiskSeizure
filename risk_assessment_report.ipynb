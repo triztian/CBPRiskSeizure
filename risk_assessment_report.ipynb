{
 "cells": [
  {
   "cell_type": "markdown",
   "metadata": {},
   "source": [
    "# Risk Assesment Report"
   ]
  },
  {
   "cell_type": "markdown",
   "metadata": {},
   "source": [
    "## Executive Summary\n",
    "\n"
   ]
  },
  {
   "cell_type": "markdown",
   "metadata": {},
   "source": [
    "\n",
    "## Overall Trading Partner Risk"
   ]
  },
  {
   "cell_type": "markdown",
   "metadata": {},
   "source": [
    "Overall CBP reported seizures by country. This is not the predicted risk for our product list but rather historical CBP reported data."
   ]
  },
  {
   "cell_type": "code",
   "execution_count": 2,
   "metadata": {},
   "outputs": [
    {
     "data": {
      "text/html": [
       "<div>\n",
       "<style scoped>\n",
       "    .dataframe tbody tr th:only-of-type {\n",
       "        vertical-align: middle;\n",
       "    }\n",
       "\n",
       "    .dataframe tbody tr th {\n",
       "        vertical-align: top;\n",
       "    }\n",
       "\n",
       "    .dataframe thead th {\n",
       "        text-align: right;\n",
       "    }\n",
       "</style>\n",
       "<table border=\"1\" class=\"dataframe\">\n",
       "  <thead>\n",
       "    <tr style=\"text-align: right;\">\n",
       "      <th></th>\n",
       "      <th>FY</th>\n",
       "      <th>Trading Partner</th>\n",
       "      <th>Mode of Transportation</th>\n",
       "      <th>Centers of Excellence</th>\n",
       "      <th>Product</th>\n",
       "      <th>Unique Seizure ID</th>\n",
       "      <th>Line</th>\n",
       "      <th>MSRP</th>\n",
       "    </tr>\n",
       "  </thead>\n",
       "  <tbody>\n",
       "    <tr>\n",
       "      <th>0</th>\n",
       "      <td>2022</td>\n",
       "      <td>CN</td>\n",
       "      <td>Other</td>\n",
       "      <td>Consumer Products &amp; Mass Merchandising</td>\n",
       "      <td>Other</td>\n",
       "      <td>202201000001</td>\n",
       "      <td>1</td>\n",
       "      <td>49314.32</td>\n",
       "    </tr>\n",
       "    <tr>\n",
       "      <th>1</th>\n",
       "      <td>2022</td>\n",
       "      <td>CN</td>\n",
       "      <td>Other</td>\n",
       "      <td>Apparel, Footwear &amp; Textiles</td>\n",
       "      <td>Wearing Apparel/Accessories</td>\n",
       "      <td>202201000002</td>\n",
       "      <td>1</td>\n",
       "      <td>45391.07</td>\n",
       "    </tr>\n",
       "    <tr>\n",
       "      <th>2</th>\n",
       "      <td>2022</td>\n",
       "      <td>CN</td>\n",
       "      <td>Other</td>\n",
       "      <td>Apparel, Footwear &amp; Textiles</td>\n",
       "      <td>Wearing Apparel/Accessories</td>\n",
       "      <td>202201000002</td>\n",
       "      <td>2</td>\n",
       "      <td>9753.60</td>\n",
       "    </tr>\n",
       "    <tr>\n",
       "      <th>3</th>\n",
       "      <td>2022</td>\n",
       "      <td>HK</td>\n",
       "      <td>Express Consignment</td>\n",
       "      <td>Consumer Products &amp; Mass Merchandising</td>\n",
       "      <td>Handbags/Wallets</td>\n",
       "      <td>202201000003</td>\n",
       "      <td>1</td>\n",
       "      <td>30800.00</td>\n",
       "    </tr>\n",
       "    <tr>\n",
       "      <th>4</th>\n",
       "      <td>2022</td>\n",
       "      <td>HK</td>\n",
       "      <td>Express Consignment</td>\n",
       "      <td>Consumer Products &amp; Mass Merchandising</td>\n",
       "      <td>Handbags/Wallets</td>\n",
       "      <td>202201000004</td>\n",
       "      <td>1</td>\n",
       "      <td>2840.00</td>\n",
       "    </tr>\n",
       "  </tbody>\n",
       "</table>\n",
       "</div>"
      ],
      "text/plain": [
       "     FY Trading Partner Mode of Transportation  \\\n",
       "0  2022              CN                  Other   \n",
       "1  2022              CN                  Other   \n",
       "2  2022              CN                  Other   \n",
       "3  2022              HK    Express Consignment   \n",
       "4  2022              HK    Express Consignment   \n",
       "\n",
       "                    Centers of Excellence                      Product  \\\n",
       "0  Consumer Products & Mass Merchandising                        Other   \n",
       "1            Apparel, Footwear & Textiles  Wearing Apparel/Accessories   \n",
       "2            Apparel, Footwear & Textiles  Wearing Apparel/Accessories   \n",
       "3  Consumer Products & Mass Merchandising             Handbags/Wallets   \n",
       "4  Consumer Products & Mass Merchandising             Handbags/Wallets   \n",
       "\n",
       "   Unique Seizure ID  Line      MSRP  \n",
       "0       202201000001     1  49314.32  \n",
       "1       202201000002     1  45391.07  \n",
       "2       202201000002     2   9753.60  \n",
       "3       202201000003     1  30800.00  \n",
       "4       202201000004     1   2840.00  "
      ]
     },
     "execution_count": 2,
     "metadata": {},
     "output_type": "execute_result"
    }
   ],
   "source": [
    "import pandas as pd\n",
    "\n",
    "ipr_df = pd.read_csv(\"data/raw/ipr-seizures-fy19-fy23_0.csv\")\n",
    "ipr_df.head()"
   ]
  },
  {
   "cell_type": "code",
   "execution_count": 11,
   "metadata": {},
   "outputs": [
    {
     "data": {
      "image/png": "[encoded data removed]",
      "text/plain": [
       "<Figure size 432x288 with 1 Axes>"
      ]
     },
     "metadata": {
      "needs_background": "light"
     },
     "output_type": "display_data"
    }
   ],
   "source": [
    "ipr_df[ipr_df.Product == 'Wearing Apparel/Accessories'].groupby('Trading Partner').size().plot(kind='bar');"
   ]
  },
  {
   "cell_type": "markdown",
   "metadata": {},
   "source": [
    "## High-Value Imports, Inc Product Risk"
   ]
  },
  {
   "cell_type": "markdown",
   "metadata": {},
   "source": [
    "### Risk Per Trading Partner (over all products)"
   ]
  },
  {
   "cell_type": "code",
   "execution_count": 16,
   "metadata": {},
   "outputs": [
    {
     "name": "stdout",
     "output_type": "stream",
     "text": [
      "Total Records 4200\n"
     ]
    },
    {
     "data": {
      "text/html": [
       "<div>\n",
       "<style scoped>\n",
       "    .dataframe tbody tr th:only-of-type {\n",
       "        vertical-align: middle;\n",
       "    }\n",
       "\n",
       "    .dataframe tbody tr th {\n",
       "        vertical-align: top;\n",
       "    }\n",
       "\n",
       "    .dataframe thead th {\n",
       "        text-align: right;\n",
       "    }\n",
       "</style>\n",
       "<table border=\"1\" class=\"dataframe\">\n",
       "  <thead>\n",
       "    <tr style=\"text-align: right;\">\n",
       "      <th></th>\n",
       "      <th>product_id</th>\n",
       "      <th>brand_name</th>\n",
       "      <th>trading_partner</th>\n",
       "      <th>line_count</th>\n",
       "      <th>msrp</th>\n",
       "      <th>seized_pred</th>\n",
       "    </tr>\n",
       "  </thead>\n",
       "  <tbody>\n",
       "    <tr>\n",
       "      <th>0</th>\n",
       "      <td>2296012</td>\n",
       "      <td>Roadster</td>\n",
       "      <td>cn</td>\n",
       "      <td>24</td>\n",
       "      <td>17.909200</td>\n",
       "      <td>1</td>\n",
       "    </tr>\n",
       "    <tr>\n",
       "      <th>1</th>\n",
       "      <td>13780156</td>\n",
       "      <td>LOCOMOTIVE</td>\n",
       "      <td>cn</td>\n",
       "      <td>24</td>\n",
       "      <td>13.727599</td>\n",
       "      <td>0</td>\n",
       "    </tr>\n",
       "    <tr>\n",
       "      <th>2</th>\n",
       "      <td>11895958</td>\n",
       "      <td>Roadster</td>\n",
       "      <td>cn</td>\n",
       "      <td>24</td>\n",
       "      <td>16.714456</td>\n",
       "      <td>1</td>\n",
       "    </tr>\n",
       "    <tr>\n",
       "      <th>3</th>\n",
       "      <td>4335679</td>\n",
       "      <td>Zivame</td>\n",
       "      <td>cn</td>\n",
       "      <td>24</td>\n",
       "      <td>15.471924</td>\n",
       "      <td>1</td>\n",
       "    </tr>\n",
       "    <tr>\n",
       "      <th>4</th>\n",
       "      <td>11690882</td>\n",
       "      <td>Roadster</td>\n",
       "      <td>cn</td>\n",
       "      <td>24</td>\n",
       "      <td>7.156511</td>\n",
       "      <td>1</td>\n",
       "    </tr>\n",
       "  </tbody>\n",
       "</table>\n",
       "</div>"
      ],
      "text/plain": [
       "   product_id  brand_name trading_partner  line_count       msrp  seized_pred\n",
       "0     2296012    Roadster              cn          24  17.909200            1\n",
       "1    13780156  LOCOMOTIVE              cn          24  13.727599            0\n",
       "2    11895958    Roadster              cn          24  16.714456            1\n",
       "3     4335679      Zivame              cn          24  15.471924            1\n",
       "4    11690882    Roadster              cn          24   7.156511            1"
      ]
     },
     "execution_count": 16,
     "metadata": {},
     "output_type": "execute_result"
    }
   ],
   "source": [
    "import pandas as pd\n",
    "\n",
    "products_df = pd.read_csv(\"data/processed/hvi_products_risk.csv\")\n",
    "print(\"Total Records\", len(products_df))\n",
    "products_df.head()"
   ]
  },
  {
   "cell_type": "code",
   "execution_count": 17,
   "metadata": {},
   "outputs": [
    {
     "data": {
      "image/png": "[encoded data removed]",
      "text/plain": [
       "<Figure size 432x288 with 1 Axes>"
      ]
     },
     "metadata": {
      "needs_background": "light"
     },
     "output_type": "display_data"
    }
   ],
   "source": [
    "products_df[products_df.seized_pred == 1].groupby('trading_partner').size().plot(kind='bar');"
   ]
  },
  {
   "cell_type": "markdown",
   "metadata": {},
   "source": [
    "### Risk Per Product (over all trading partners)"
   ]
  },
  {
   "cell_type": "markdown",
   "metadata": {},
   "source": [
    "#### Top 15 Riskiest Products"
   ]
  },
  {
   "cell_type": "code",
   "execution_count": 27,
   "metadata": {},
   "outputs": [
    {
     "data": {
      "image/png": "[encoded data removed]",
      "text/plain": [
       "<Figure size 432x288 with 1 Axes>"
      ]
     },
     "metadata": {
      "needs_background": "light"
     },
     "output_type": "display_data"
    }
   ],
   "source": [
    "products_df[products_df.seized_pred == 1].groupby(\"product_id\").size().sort_values(\n",
    "    ascending=False\n",
    ")[:15].plot(kind=\"bar\");"
   ]
  },
  {
   "cell_type": "markdown",
   "metadata": {},
   "source": [
    "#### Top 15 Safest Products"
   ]
  },
  {
   "cell_type": "code",
   "execution_count": 28,
   "metadata": {},
   "outputs": [
    {
     "data": {
      "image/png": "[encoded data removed]",
      "text/plain": [
       "<Figure size 432x288 with 1 Axes>"
      ]
     },
     "metadata": {
      "needs_background": "light"
     },
     "output_type": "display_data"
    }
   ],
   "source": [
    "products_df[products_df.seized_pred == 1].groupby(\"product_id\").size().sort_values(\n",
    "    ascending=True\n",
    ")[:15].plot(kind=\"bar\");"
   ]
  },
  {
   "cell_type": "markdown",
   "metadata": {},
   "source": [
    "### Risk Per Trading Partner and Product"
   ]
  },
  {
   "cell_type": "markdown",
   "metadata": {},
   "source": [
    "#### Top 10 Riskiest Trading Partner and Product"
   ]
  },
  {
   "cell_type": "code",
   "execution_count": 35,
   "metadata": {},
   "outputs": [
    {
     "data": {
      "image/png": "[encoded data removed]",
      "text/plain": [
       "<Figure size 432x288 with 1 Axes>"
      ]
     },
     "metadata": {
      "needs_background": "light"
     },
     "output_type": "display_data"
    }
   ],
   "source": [
    "products_df[products_df.seized_pred == 1].groupby([\"product_id\", \"trading_partner\"]).size().sort_values(\n",
    "    ascending=False\n",
    ")[:10].plot(kind='bar');"
   ]
  },
  {
   "cell_type": "markdown",
   "metadata": {},
   "source": [
    "#### Top 10 Safest Trading Partner and Product"
   ]
  },
  {
   "cell_type": "code",
   "execution_count": 33,
   "metadata": {},
   "outputs": [
    {
     "data": {
      "image/png": "[encoded data removed]",
      "text/plain": [
       "<Figure size 432x288 with 1 Axes>"
      ]
     },
     "metadata": {
      "needs_background": "light"
     },
     "output_type": "display_data"
    }
   ],
   "source": [
    "products_df[products_df.seized_pred == 1].groupby([\"product_id\", \"trading_partner\"]).size().sort_values(\n",
    "    ascending=True\n",
    ")[:10].plot(kind='bar');"
   ]
  }
 ],
 "metadata": {
  "kernelspec": {
   "display_name": "Python 3",
   "language": "python",
   "name": "python3"
  },
  "language_info": {
   "codemirror_mode": {
    "name": "ipython",
    "version": 3
   },
   "file_extension": ".py",
   "mimetype": "text/x-python",
   "name": "python",
   "nbconvert_exporter": "python",
   "pygments_lexer": "ipython3",
   "version": "3.8.2"
  }
 },
 "nbformat": 4,
 "nbformat_minor": 2
}
