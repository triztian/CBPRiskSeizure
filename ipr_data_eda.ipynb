{
 "cells": [
  {
   "cell_type": "code",
   "execution_count": 29,
   "metadata": {},
   "outputs": [
    {
     "name": "stdout",
     "output_type": "stream",
     "text": [
      "The autoreload extension is already loaded. To reload it, use:\n",
      "  %reload_ext autoreload\n"
     ]
    }
   ],
   "source": [
    "%load_ext autoreload\n",
    "%autoreload 2\n",
    "\n",
    "import pandas as pd"
   ]
  },
  {
   "cell_type": "code",
   "execution_count": 30,
   "metadata": {},
   "outputs": [
    {
     "data": {
      "text/html": [
       "<div>\n",
       "<style scoped>\n",
       "    .dataframe tbody tr th:only-of-type {\n",
       "        vertical-align: middle;\n",
       "    }\n",
       "\n",
       "    .dataframe tbody tr th {\n",
       "        vertical-align: top;\n",
       "    }\n",
       "\n",
       "    .dataframe thead th {\n",
       "        text-align: right;\n",
       "    }\n",
       "</style>\n",
       "<table border=\"1\" class=\"dataframe\">\n",
       "  <thead>\n",
       "    <tr style=\"text-align: right;\">\n",
       "      <th></th>\n",
       "      <th>FY</th>\n",
       "      <th>Trading Partner</th>\n",
       "      <th>Mode of Transportation</th>\n",
       "      <th>Centers of Excellence</th>\n",
       "      <th>Product</th>\n",
       "      <th>Unique Seizure ID</th>\n",
       "      <th>Line</th>\n",
       "      <th>MSRP</th>\n",
       "    </tr>\n",
       "  </thead>\n",
       "  <tbody>\n",
       "    <tr>\n",
       "      <th>0</th>\n",
       "      <td>2022</td>\n",
       "      <td>CN</td>\n",
       "      <td>Other</td>\n",
       "      <td>Consumer Products &amp; Mass Merchandising</td>\n",
       "      <td>Other</td>\n",
       "      <td>202201000001</td>\n",
       "      <td>1</td>\n",
       "      <td>49314</td>\n",
       "    </tr>\n",
       "    <tr>\n",
       "      <th>1</th>\n",
       "      <td>2022</td>\n",
       "      <td>CN</td>\n",
       "      <td>Other</td>\n",
       "      <td>Apparel, Footwear &amp; Textiles</td>\n",
       "      <td>Wearing Apparel/Accessories</td>\n",
       "      <td>202201000002</td>\n",
       "      <td>1</td>\n",
       "      <td>45391</td>\n",
       "    </tr>\n",
       "    <tr>\n",
       "      <th>2</th>\n",
       "      <td>2022</td>\n",
       "      <td>CN</td>\n",
       "      <td>Other</td>\n",
       "      <td>Apparel, Footwear &amp; Textiles</td>\n",
       "      <td>Wearing Apparel/Accessories</td>\n",
       "      <td>202201000002</td>\n",
       "      <td>2</td>\n",
       "      <td>9754</td>\n",
       "    </tr>\n",
       "    <tr>\n",
       "      <th>3</th>\n",
       "      <td>2022</td>\n",
       "      <td>HK</td>\n",
       "      <td>Express Consignment</td>\n",
       "      <td>Consumer Products &amp; Mass Merchandising</td>\n",
       "      <td>Handbags/Wallets</td>\n",
       "      <td>202201000003</td>\n",
       "      <td>1</td>\n",
       "      <td>30800</td>\n",
       "    </tr>\n",
       "    <tr>\n",
       "      <th>4</th>\n",
       "      <td>2022</td>\n",
       "      <td>HK</td>\n",
       "      <td>Express Consignment</td>\n",
       "      <td>Consumer Products &amp; Mass Merchandising</td>\n",
       "      <td>Handbags/Wallets</td>\n",
       "      <td>202201000004</td>\n",
       "      <td>1</td>\n",
       "      <td>2840</td>\n",
       "    </tr>\n",
       "  </tbody>\n",
       "</table>\n",
       "</div>"
      ],
      "text/plain": [
       "     FY Trading Partner Mode of Transportation  ... Unique Seizure ID Line  MSRP\n",
       "0  2022              CN                  Other  ...      202201000001    1 49314\n",
       "1  2022              CN                  Other  ...      202201000002    1 45391\n",
       "2  2022              CN                  Other  ...      202201000002    2  9754\n",
       "3  2022              HK    Express Consignment  ...      202201000003    1 30800\n",
       "4  2022              HK    Express Consignment  ...      202201000004    1  2840\n",
       "\n",
       "[5 rows x 8 columns]"
      ]
     },
     "execution_count": 30,
     "metadata": {},
     "output_type": "execute_result"
    }
   ],
   "source": [
    "from data_util import load_ipr\n",
    "\n",
    "ipr_data_df = load_ipr()\n",
    "ipr_data_df.head()"
   ]
  },
  {
   "cell_type": "code",
   "execution_count": 31,
   "metadata": {},
   "outputs": [
    {
     "name": "stdout",
     "output_type": "stream",
     "text": [
      "<class 'pandas.core.frame.DataFrame'>\n",
      "RangeIndex: 444113 entries, 0 to 444112\n",
      "Data columns (total 8 columns):\n",
      " #   Column                  Non-Null Count   Dtype  \n",
      "---  ------                  --------------   -----  \n",
      " 0   FY                      444113 non-null  int64  \n",
      " 1   Trading Partner         444113 non-null  object \n",
      " 2   Mode of Transportation  444113 non-null  object \n",
      " 3   Centers of Excellence   444113 non-null  object \n",
      " 4   Product                 444113 non-null  object \n",
      " 5   Unique Seizure ID       444113 non-null  int64  \n",
      " 6   Line                    444113 non-null  int64  \n",
      " 7   MSRP                    443918 non-null  float64\n",
      "dtypes: float64(1), int64(3), object(4)\n",
      "memory usage: 27.1+ MB\n"
     ]
    }
   ],
   "source": [
    "ipr_data_df.info()"
   ]
  },
  {
   "cell_type": "code",
   "execution_count": 32,
   "metadata": {},
   "outputs": [
    {
     "data": {
      "text/html": [
       "<div>\n",
       "<style scoped>\n",
       "    .dataframe tbody tr th:only-of-type {\n",
       "        vertical-align: middle;\n",
       "    }\n",
       "\n",
       "    .dataframe tbody tr th {\n",
       "        vertical-align: top;\n",
       "    }\n",
       "\n",
       "    .dataframe thead th {\n",
       "        text-align: right;\n",
       "    }\n",
       "</style>\n",
       "<table border=\"1\" class=\"dataframe\">\n",
       "  <thead>\n",
       "    <tr style=\"text-align: right;\">\n",
       "      <th></th>\n",
       "      <th>FY</th>\n",
       "      <th>Unique Seizure ID</th>\n",
       "      <th>Line</th>\n",
       "      <th>MSRP</th>\n",
       "    </tr>\n",
       "  </thead>\n",
       "  <tbody>\n",
       "    <tr>\n",
       "      <th>count</th>\n",
       "      <td>444113</td>\n",
       "      <td>444113</td>\n",
       "      <td>444113</td>\n",
       "      <td>443918</td>\n",
       "    </tr>\n",
       "    <tr>\n",
       "      <th>mean</th>\n",
       "      <td>2021</td>\n",
       "      <td>202125006749</td>\n",
       "      <td>13</td>\n",
       "      <td>26885</td>\n",
       "    </tr>\n",
       "    <tr>\n",
       "      <th>std</th>\n",
       "      <td>1</td>\n",
       "      <td>135629500</td>\n",
       "      <td>34</td>\n",
       "      <td>581003</td>\n",
       "    </tr>\n",
       "    <tr>\n",
       "      <th>min</th>\n",
       "      <td>2019</td>\n",
       "      <td>201901000001</td>\n",
       "      <td>1</td>\n",
       "      <td>0</td>\n",
       "    </tr>\n",
       "    <tr>\n",
       "      <th>25%</th>\n",
       "      <td>2020</td>\n",
       "      <td>202001017448</td>\n",
       "      <td>1</td>\n",
       "      <td>575</td>\n",
       "    </tr>\n",
       "    <tr>\n",
       "      <th>50%</th>\n",
       "      <td>2021</td>\n",
       "      <td>202101023542</td>\n",
       "      <td>4</td>\n",
       "      <td>1872</td>\n",
       "    </tr>\n",
       "    <tr>\n",
       "      <th>75%</th>\n",
       "      <td>2022</td>\n",
       "      <td>202201019709</td>\n",
       "      <td>10</td>\n",
       "      <td>6600</td>\n",
       "    </tr>\n",
       "    <tr>\n",
       "      <th>max</th>\n",
       "      <td>2023</td>\n",
       "      <td>202301019875</td>\n",
       "      <td>752</td>\n",
       "      <td>226976300</td>\n",
       "    </tr>\n",
       "  </tbody>\n",
       "</table>\n",
       "</div>"
      ],
      "text/plain": [
       "          FY  Unique Seizure ID   Line      MSRP\n",
       "count 444113             444113 444113    443918\n",
       "mean    2021       202125006749     13     26885\n",
       "std        1          135629500     34    581003\n",
       "min     2019       201901000001      1         0\n",
       "25%     2020       202001017448      1       575\n",
       "50%     2021       202101023542      4      1872\n",
       "75%     2022       202201019709     10      6600\n",
       "max     2023       202301019875    752 226976300"
      ]
     },
     "execution_count": 32,
     "metadata": {},
     "output_type": "execute_result"
    }
   ],
   "source": [
    "ipr_data_df.describe()"
   ]
  },
  {
   "cell_type": "markdown",
   "metadata": {},
   "source": [
    "## Check for Missing values"
   ]
  },
  {
   "cell_type": "code",
   "execution_count": 33,
   "metadata": {},
   "outputs": [
    {
     "name": "stdout",
     "output_type": "stream",
     "text": [
      "Total Rows: 444113\n",
      "Index(['FY', 'Trading Partner', 'Mode of Transportation',\n",
      "       'Centers of Excellence', 'Product', 'Unique Seizure ID', 'Line',\n",
      "       'MSRP'],\n",
      "      dtype='object')\n"
     ]
    },
    {
     "data": {
      "text/plain": [
       "FY                          0 (%0.00)\n",
       "Trading Partner             0 (%0.00)\n",
       "Mode of Transportation      0 (%0.00)\n",
       "Centers of Excellence       0 (%0.00)\n",
       "Product                     0 (%0.00)\n",
       "Unique Seizure ID           0 (%0.00)\n",
       "Line                        0 (%0.00)\n",
       "MSRP                      195 (%0.04)\n",
       "dtype: object"
      ]
     },
     "execution_count": 33,
     "metadata": {},
     "output_type": "execute_result"
    }
   ],
   "source": [
    "from format_util import to_percent\n",
    "\n",
    "total_rows = len(ipr_data_df)\n",
    "print(\"Total Rows:\", total_rows)\n",
    "\n",
    "rows_with_missing_data = ipr_data_df.isnull().sum()\n",
    "rows_with_missing_data = rows_with_missing_data.apply(\n",
    "    lambda v: '{:d} (%{:.2f})'.format(v, to_percent(v, total_rows))\n",
    ")\n",
    "print(rows_with_missing_data.index)\n",
    "rows_with_missing_data"
   ]
  },
  {
   "cell_type": "markdown",
   "metadata": {},
   "source": [
    "## Values Distribution"
   ]
  },
  {
   "cell_type": "markdown",
   "metadata": {},
   "source": [
    "Configure general float display options:"
   ]
  },
  {
   "cell_type": "code",
   "execution_count": 34,
   "metadata": {},
   "outputs": [],
   "source": [
    "pd.options.display.float_format = '{:.0f}'.format"
   ]
  },
  {
   "cell_type": "markdown",
   "metadata": {},
   "source": [
    "'Unique Seizure ID'"
   ]
  },
  {
   "cell_type": "code",
   "execution_count": 35,
   "metadata": {},
   "outputs": [
    {
     "name": "stdout",
     "output_type": "stream",
     "text": [
      "Total Records: 444113\n"
     ]
    }
   ],
   "source": [
    "print('Total Records:', len(ipr_data_df))"
   ]
  },
  {
   "cell_type": "code",
   "execution_count": 36,
   "metadata": {},
   "outputs": [
    {
     "name": "stdout",
     "output_type": "stream",
     "text": [
      "Total Unique Seizures: 121751\n"
     ]
    }
   ],
   "source": [
    "print('Total Unique Seizures:', len(ipr_data_df['Unique Seizure ID'].unique()))"
   ]
  },
  {
   "cell_type": "markdown",
   "metadata": {},
   "source": [
    "Check if those non-unique seizure ids are actually equal"
   ]
  },
  {
   "cell_type": "code",
   "execution_count": 37,
   "metadata": {},
   "outputs": [
    {
     "data": {
      "text/plain": [
       "{201901000001: [68222], 201901000002: [68223], 201901000003: [68224], 201901000004: [68225], 201901000005: [68226], 201901000006: [68227], 201901000007: [68228], 201901000008: [68229, 68230, 68231], 201901000009: [68232], 201901000010: [68233, 68234], 201901000011: [68235, 68236], 201901000012: [68237], 201901000013: [68238, 68239], 201901000014: [68240, 68241], 201901000015: [68242, 68243], 201901000016: [68244], 201901000017: [68245], 201901000018: [68246, 68247, 68248], 201901000019: [68249], 201901000020: [68250, 68251, 68252, 68253, 68254], 201901000021: [68255], 201901000022: [68256, 68257, 68258, 68259, 68260, 68261, 68262, 68263, 68264, 68265, 68266, 68267, 68268, 68269], 201901000023: [68270, 68271, 68272, 68273, 68274, 68275, 68276, 68277], 201901000024: [68278], 201901000025: [68279, 68280], 201901000026: [68281, 68282, 68283, 68284, 68285], 201901000027: [68286], 201901000028: [68287, 68288, 68289, 68290], 201901000029: [68291, 68292], 201901000030: [68293, 68294], 201901000031: [68295], 201901000032: [68296, 68297, 68298], 201901000033: [68299], 201901000034: [68300, 68301], 201901000035: [68302, 68303, 68304, 68305], 201901000036: [68306, 68307], 201901000037: [68308], 201901000038: [68309, 68310, 68311, 68312, 68313, 68314], 201901000039: [68315], 201901000040: [68316, 68317, 68318, 68319, 68320, 68321, 68322, 68323, 68324, 68325, 68326], 201901000041: [68327, 68328], 201901000042: [68329, 68330, 68331, 68332], 201901000043: [68333, 68334, 68335, 68336, 68337, 68338, 68339, 68340, 68341, 68342, 68343, 68344, 68345, 68346, 68347, 68348, 68349, 68350, 68351, 68352, 68353], 201901000044: [68354], 201901000045: [68355], 201901000046: [68356], 201901000047: [68357, 68358, 68359], 201901000048: [68360], 201901000049: [68361], 201901000050: [68362], 201901000051: [68363], 201901000052: [68364, 68365], 201901000053: [68366, 68367], 201901000054: [68368], 201901000055: [68369], 201901000056: [68370, 68371, 68372, 68373, 68374], 201901000057: [68375, 68376, 68377, 68378, 68379, 68380, 68381, 68382, 68383, 68384, 68385, 68386, 68387], 201901000058: [68388], 201901000059: [68389], 201901000060: [68390], 201901000061: [68391], 201901000062: [68392], 201901000063: [68393], 201901000064: [68394, 68395, 68396, 68397, 68398], 201901000065: [68399], 201901000066: [68400], 201901000067: [68401, 68402, 68403, 68404], 201901000068: [68405], 201901000069: [68406, 68407, 68408, 68409, 68410, 68411, 68412], 201901000070: [68413], 201901000071: [68414], 201901000072: [68415, 68416], 201901000073: [68417, 68418, 68419, 68420, 68421, 68422, 68423, 68424, 68425, 68426], 201901000074: [68427], 201901000075: [68428, 68429], 201901000076: [68430], 201901000077: [68431], 201901000078: [68432], 201901000079: [68433], 201901000080: [68434], 201901000081: [68435, 68436], 201901000082: [68437], 201901000083: [68438, 68439, 68440], 201901000084: [68441, 68442], 201901000085: [68443], 201901000086: [68444, 68445, 68446, 68447], 201901000087: [68448], 201901000088: [68449], 201901000089: [68450, 68451], 201901000090: [68452, 68453], 201901000091: [68454, 68455], 201901000092: [68456, 68457, 68458, 68459, 68460, 68461], 201901000093: [68462], 201901000094: [68463, 68464, 68465], 201901000095: [68466], 201901000096: [68467, 68468, 68469], 201901000097: [68470], 201901000098: [68471, 68472], 201901000099: [68473], 201901000100: [68474], ...}"
      ]
     },
     "execution_count": 37,
     "metadata": {},
     "output_type": "execute_result"
    }
   ],
   "source": [
    "ipr_data_df.groupby('Unique Seizure ID').groups"
   ]
  },
  {
   "cell_type": "markdown",
   "metadata": {},
   "source": [
    "Next we grab one of the groups to check the data:"
   ]
  },
  {
   "cell_type": "code",
   "execution_count": 38,
   "metadata": {},
   "outputs": [
    {
     "data": {
      "text/html": [
       "<div>\n",
       "<style scoped>\n",
       "    .dataframe tbody tr th:only-of-type {\n",
       "        vertical-align: middle;\n",
       "    }\n",
       "\n",
       "    .dataframe tbody tr th {\n",
       "        vertical-align: top;\n",
       "    }\n",
       "\n",
       "    .dataframe thead th {\n",
       "        text-align: right;\n",
       "    }\n",
       "</style>\n",
       "<table border=\"1\" class=\"dataframe\">\n",
       "  <thead>\n",
       "    <tr style=\"text-align: right;\">\n",
       "      <th></th>\n",
       "      <th>FY</th>\n",
       "      <th>Trading Partner</th>\n",
       "      <th>Mode of Transportation</th>\n",
       "      <th>Centers of Excellence</th>\n",
       "      <th>Product</th>\n",
       "      <th>Unique Seizure ID</th>\n",
       "      <th>Line</th>\n",
       "      <th>MSRP</th>\n",
       "    </tr>\n",
       "  </thead>\n",
       "  <tbody>\n",
       "    <tr>\n",
       "      <th>68309</th>\n",
       "      <td>2019</td>\n",
       "      <td>HK</td>\n",
       "      <td>Express Consignment</td>\n",
       "      <td>Apparel, Footwear &amp; Textiles</td>\n",
       "      <td>Wearing Apparel/Accessories</td>\n",
       "      <td>201901000038</td>\n",
       "      <td>1</td>\n",
       "      <td>3600</td>\n",
       "    </tr>\n",
       "    <tr>\n",
       "      <th>68310</th>\n",
       "      <td>2019</td>\n",
       "      <td>HK</td>\n",
       "      <td>Express Consignment</td>\n",
       "      <td>Apparel, Footwear &amp; Textiles</td>\n",
       "      <td>Wearing Apparel/Accessories</td>\n",
       "      <td>201901000038</td>\n",
       "      <td>2</td>\n",
       "      <td>600</td>\n",
       "    </tr>\n",
       "    <tr>\n",
       "      <th>68311</th>\n",
       "      <td>2019</td>\n",
       "      <td>HK</td>\n",
       "      <td>Express Consignment</td>\n",
       "      <td>Apparel, Footwear &amp; Textiles</td>\n",
       "      <td>Wearing Apparel/Accessories</td>\n",
       "      <td>201901000038</td>\n",
       "      <td>3</td>\n",
       "      <td>1800</td>\n",
       "    </tr>\n",
       "    <tr>\n",
       "      <th>68312</th>\n",
       "      <td>2019</td>\n",
       "      <td>HK</td>\n",
       "      <td>Express Consignment</td>\n",
       "      <td>Apparel, Footwear &amp; Textiles</td>\n",
       "      <td>Wearing Apparel/Accessories</td>\n",
       "      <td>201901000038</td>\n",
       "      <td>4</td>\n",
       "      <td>1800</td>\n",
       "    </tr>\n",
       "    <tr>\n",
       "      <th>68313</th>\n",
       "      <td>2019</td>\n",
       "      <td>HK</td>\n",
       "      <td>Express Consignment</td>\n",
       "      <td>Apparel, Footwear &amp; Textiles</td>\n",
       "      <td>Wearing Apparel/Accessories</td>\n",
       "      <td>201901000038</td>\n",
       "      <td>5</td>\n",
       "      <td>1800</td>\n",
       "    </tr>\n",
       "    <tr>\n",
       "      <th>68314</th>\n",
       "      <td>2019</td>\n",
       "      <td>HK</td>\n",
       "      <td>Express Consignment</td>\n",
       "      <td>Apparel, Footwear &amp; Textiles</td>\n",
       "      <td>Wearing Apparel/Accessories</td>\n",
       "      <td>201901000038</td>\n",
       "      <td>6</td>\n",
       "      <td>550</td>\n",
       "    </tr>\n",
       "  </tbody>\n",
       "</table>\n",
       "</div>"
      ],
      "text/plain": [
       "         FY Trading Partner  ... Line MSRP\n",
       "68309  2019              HK  ...    1 3600\n",
       "68310  2019              HK  ...    2  600\n",
       "68311  2019              HK  ...    3 1800\n",
       "68312  2019              HK  ...    4 1800\n",
       "68313  2019              HK  ...    5 1800\n",
       "68314  2019              HK  ...    6  550\n",
       "\n",
       "[6 rows x 8 columns]"
      ]
     },
     "execution_count": 38,
     "metadata": {},
     "output_type": "execute_result"
    }
   ],
   "source": [
    "ipr_data_df[ipr_data_df['Unique Seizure ID'] == 201901000038]"
   ]
  },
  {
   "cell_type": "markdown",
   "metadata": {},
   "source": [
    "It seems like the seizure ID is not unique but is rather like an \"Invoice\" and the `Line` property helps discern items within the seizure."
   ]
  },
  {
   "cell_type": "markdown",
   "metadata": {},
   "source": [
    "#### 'Fiscal Year'"
   ]
  },
  {
   "cell_type": "code",
   "execution_count": 39,
   "metadata": {},
   "outputs": [
    {
     "data": {
      "text/plain": [
       "<Axes: >"
      ]
     },
     "execution_count": 39,
     "metadata": {},
     "output_type": "execute_result"
    },
    {
     "data": {
      "image/png": "[encoded data removed]",
      "text/plain": [
       "<Figure size 432x288 with 1 Axes>"
      ]
     },
     "metadata": {
      "needs_background": "light"
     },
     "output_type": "display_data"
    }
   ],
   "source": [
    "ipr_data_df['FY'].hist()"
   ]
  },
  {
   "cell_type": "markdown",
   "metadata": {},
   "source": [
    "### 'Line'"
   ]
  },
  {
   "cell_type": "code",
   "execution_count": 40,
   "metadata": {},
   "outputs": [
    {
     "data": {
      "image/png": "[encoded data removed]",
      "text/plain": [
       "<Figure size 432x288 with 1 Axes>"
      ]
     },
     "metadata": {
      "needs_background": "light"
     },
     "output_type": "display_data"
    }
   ],
   "source": [
    "ipr_data_df['Line'].hist();"
   ]
  },
  {
   "cell_type": "markdown",
   "metadata": {},
   "source": [
    "### 'MSRP'"
   ]
  },
  {
   "cell_type": "code",
   "execution_count": 41,
   "metadata": {},
   "outputs": [
    {
     "data": {
      "text/plain": [
       "count      443918\n",
       "mean        26885\n",
       "std        581003\n",
       "min             0\n",
       "25%           575\n",
       "50%          1872\n",
       "75%          6600\n",
       "max     226976300\n",
       "Name: MSRP, dtype: float64"
      ]
     },
     "execution_count": 41,
     "metadata": {},
     "output_type": "execute_result"
    }
   ],
   "source": [
    "ipr_data_df['MSRP'].describe()"
   ]
  },
  {
   "cell_type": "markdown",
   "metadata": {},
   "source": [
    "Looking at MSRP descriptions we observe that most 75% of the produces have a price of about 7.5k, we'll use 10,000 as the cut-off to inspect distribution:"
   ]
  },
  {
   "cell_type": "code",
   "execution_count": 42,
   "metadata": {},
   "outputs": [
    {
     "data": {
      "image/png": "[encoded data removed]",
      "text/plain": [
       "<Figure size 432x288 with 1 Axes>"
      ]
     },
     "metadata": {
      "needs_background": "light"
     },
     "output_type": "display_data"
    }
   ],
   "source": [
    "ipr_data_df[ipr_data_df['MSRP'] <= 10_000]['MSRP'].hist();"
   ]
  },
  {
   "cell_type": "markdown",
   "metadata": {},
   "source": [
    "Distribution by Country"
   ]
  },
  {
   "cell_type": "code",
   "execution_count": 43,
   "metadata": {},
   "outputs": [
    {
     "data": {
      "image/png": "[encoded data removed]",
      "text/plain": [
       "<Figure size 432x288 with 1 Axes>"
      ]
     },
     "metadata": {
      "needs_background": "light"
     },
     "output_type": "display_data"
    }
   ],
   "source": [
    "ipr_data_df['Trading Partner'].hist();"
   ]
  },
  {
   "cell_type": "markdown",
   "metadata": {},
   "source": [
    "Distribution by Product"
   ]
  },
  {
   "cell_type": "code",
   "execution_count": 44,
   "metadata": {},
   "outputs": [
    {
     "data": {
      "image/png": "[encoded data removed]",
      "text/plain": [
       "<Figure size 432x288 with 1 Axes>"
      ]
     },
     "metadata": {
      "needs_background": "light"
     },
     "output_type": "display_data"
    }
   ],
   "source": [
    "import matplotlib.pyplot as plt\n",
    "\n",
    "plt.xticks(rotation=90)\n",
    "ipr_data_df['Product'].hist();\n"
   ]
  },
  {
   "cell_type": "markdown",
   "metadata": {},
   "source": [
    "We observe that CA and SG many less observations compared to the rest"
   ]
  },
  {
   "cell_type": "markdown",
   "metadata": {},
   "source": [
    "### Data Set Cleanup"
   ]
  },
  {
   "cell_type": "markdown",
   "metadata": {},
   "source": [
    "We'll be performing the following actions before exploring feature selection\n",
    "\n",
    "  1. Normalize column naming, that is remove special characters and replace with underscores, all columns names in lowercase.\n",
    "  2. Removing features with 20% or more missing values\n",
    "  3. Imputing the average for features with less than 20% missing values\n",
    "  4. Normalize string values\n",
    "  5. Remove columns that might not be of interest\n",
    "     1. `centers_of_excellence` - Typically the \n",
    "     2. `mode_of_transportation` - We don't have an equivalent on the product list for this column\n",
    "  6. We'll create a new column called `line_count` which contains the total number of lines\n",
    "  7. We'll merge the `line` and `unique_seizure_id` into a true single identifier\n",
    "  8. Finally we'll drop duplicate `unique_seizure_id`-`line` values"
   ]
  },
  {
   "cell_type": "code",
   "execution_count": 45,
   "metadata": {},
   "outputs": [
    {
     "data": {
      "text/html": [
       "<div>\n",
       "<style scoped>\n",
       "    .dataframe tbody tr th:only-of-type {\n",
       "        vertical-align: middle;\n",
       "    }\n",
       "\n",
       "    .dataframe tbody tr th {\n",
       "        vertical-align: top;\n",
       "    }\n",
       "\n",
       "    .dataframe thead th {\n",
       "        text-align: right;\n",
       "    }\n",
       "</style>\n",
       "<table border=\"1\" class=\"dataframe\">\n",
       "  <thead>\n",
       "    <tr style=\"text-align: right;\">\n",
       "      <th></th>\n",
       "      <th>FY</th>\n",
       "      <th>Trading Partner</th>\n",
       "      <th>Mode of Transportation</th>\n",
       "      <th>Centers of Excellence</th>\n",
       "      <th>Product</th>\n",
       "      <th>Unique Seizure ID</th>\n",
       "      <th>Line</th>\n",
       "      <th>MSRP</th>\n",
       "    </tr>\n",
       "  </thead>\n",
       "  <tbody>\n",
       "    <tr>\n",
       "      <th>0</th>\n",
       "      <td>2022</td>\n",
       "      <td>CN</td>\n",
       "      <td>Other</td>\n",
       "      <td>Consumer Products &amp; Mass Merchandising</td>\n",
       "      <td>Other</td>\n",
       "      <td>202201000001</td>\n",
       "      <td>1</td>\n",
       "      <td>49314</td>\n",
       "    </tr>\n",
       "    <tr>\n",
       "      <th>1</th>\n",
       "      <td>2022</td>\n",
       "      <td>CN</td>\n",
       "      <td>Other</td>\n",
       "      <td>Apparel, Footwear &amp; Textiles</td>\n",
       "      <td>Wearing Apparel/Accessories</td>\n",
       "      <td>202201000002</td>\n",
       "      <td>1</td>\n",
       "      <td>45391</td>\n",
       "    </tr>\n",
       "    <tr>\n",
       "      <th>2</th>\n",
       "      <td>2022</td>\n",
       "      <td>CN</td>\n",
       "      <td>Other</td>\n",
       "      <td>Apparel, Footwear &amp; Textiles</td>\n",
       "      <td>Wearing Apparel/Accessories</td>\n",
       "      <td>202201000002</td>\n",
       "      <td>2</td>\n",
       "      <td>9754</td>\n",
       "    </tr>\n",
       "    <tr>\n",
       "      <th>3</th>\n",
       "      <td>2022</td>\n",
       "      <td>HK</td>\n",
       "      <td>Express Consignment</td>\n",
       "      <td>Consumer Products &amp; Mass Merchandising</td>\n",
       "      <td>Handbags/Wallets</td>\n",
       "      <td>202201000003</td>\n",
       "      <td>1</td>\n",
       "      <td>30800</td>\n",
       "    </tr>\n",
       "    <tr>\n",
       "      <th>4</th>\n",
       "      <td>2022</td>\n",
       "      <td>HK</td>\n",
       "      <td>Express Consignment</td>\n",
       "      <td>Consumer Products &amp; Mass Merchandising</td>\n",
       "      <td>Handbags/Wallets</td>\n",
       "      <td>202201000004</td>\n",
       "      <td>1</td>\n",
       "      <td>2840</td>\n",
       "    </tr>\n",
       "  </tbody>\n",
       "</table>\n",
       "</div>"
      ],
      "text/plain": [
       "     FY Trading Partner Mode of Transportation  ... Unique Seizure ID Line  MSRP\n",
       "0  2022              CN                  Other  ...      202201000001    1 49314\n",
       "1  2022              CN                  Other  ...      202201000002    1 45391\n",
       "2  2022              CN                  Other  ...      202201000002    2  9754\n",
       "3  2022              HK    Express Consignment  ...      202201000003    1 30800\n",
       "4  2022              HK    Express Consignment  ...      202201000004    1  2840\n",
       "\n",
       "[5 rows x 8 columns]"
      ]
     },
     "execution_count": 45,
     "metadata": {},
     "output_type": "execute_result"
    }
   ],
   "source": [
    "ipr_data_df.head()"
   ]
  },
  {
   "cell_type": "code",
   "execution_count": 46,
   "metadata": {},
   "outputs": [
    {
     "name": "stderr",
     "output_type": "stream",
     "text": [
      "remove_columns_missing: set()\n",
      "join_columns: unique_seizure_id_line\n"
     ]
    },
    {
     "name": "stdout",
     "output_type": "stream",
     "text": [
      "Features:\n",
      "msrp\n",
      "trading_partner_cn\n",
      "trading_partner_hk\n",
      "trading_partner_other_countries\n",
      "trading_partner_sg\n",
      "trading_partner_tr\n",
      "product_ball_bearings\n",
      "product_cigarettes\n",
      "product_computers_accessories\n",
      "product_consumer_electronics\n",
      "product_consumer_products\n",
      "product_food\n",
      "product_footwear\n",
      "product_handbags_wallets\n",
      "product_labels_tags\n",
      "product_optical_media\n",
      "product_other\n",
      "product_pharmaceuticals_personal_care\n",
      "product_sporting_goods\n",
      "product_toys\n",
      "product_watches_jewelry\n",
      "product_wearing_apparel_accessories\n",
      "line_count\n"
     ]
    },
    {
     "data": {
      "text/html": [
       "<div>\n",
       "<style scoped>\n",
       "    .dataframe tbody tr th:only-of-type {\n",
       "        vertical-align: middle;\n",
       "    }\n",
       "\n",
       "    .dataframe tbody tr th {\n",
       "        vertical-align: top;\n",
       "    }\n",
       "\n",
       "    .dataframe thead th {\n",
       "        text-align: right;\n",
       "    }\n",
       "</style>\n",
       "<table border=\"1\" class=\"dataframe\">\n",
       "  <thead>\n",
       "    <tr style=\"text-align: right;\">\n",
       "      <th></th>\n",
       "      <th>msrp</th>\n",
       "      <th>trading_partner_cn</th>\n",
       "      <th>trading_partner_hk</th>\n",
       "      <th>trading_partner_other_countries</th>\n",
       "      <th>trading_partner_sg</th>\n",
       "      <th>trading_partner_tr</th>\n",
       "      <th>product_ball_bearings</th>\n",
       "      <th>product_cigarettes</th>\n",
       "      <th>product_computers_accessories</th>\n",
       "      <th>product_consumer_electronics</th>\n",
       "      <th>product_consumer_products</th>\n",
       "      <th>product_food</th>\n",
       "      <th>product_footwear</th>\n",
       "      <th>product_handbags_wallets</th>\n",
       "      <th>product_labels_tags</th>\n",
       "      <th>product_optical_media</th>\n",
       "      <th>product_other</th>\n",
       "      <th>product_pharmaceuticals_personal_care</th>\n",
       "      <th>product_sporting_goods</th>\n",
       "      <th>product_toys</th>\n",
       "      <th>product_watches_jewelry</th>\n",
       "      <th>product_wearing_apparel_accessories</th>\n",
       "      <th>line_count</th>\n",
       "    </tr>\n",
       "  </thead>\n",
       "  <tbody>\n",
       "    <tr>\n",
       "      <th>0</th>\n",
       "      <td>49314</td>\n",
       "      <td>1</td>\n",
       "      <td>0</td>\n",
       "      <td>0</td>\n",
       "      <td>0</td>\n",
       "      <td>0</td>\n",
       "      <td>0</td>\n",
       "      <td>0</td>\n",
       "      <td>0</td>\n",
       "      <td>0</td>\n",
       "      <td>0</td>\n",
       "      <td>0</td>\n",
       "      <td>0</td>\n",
       "      <td>0</td>\n",
       "      <td>0</td>\n",
       "      <td>0</td>\n",
       "      <td>1</td>\n",
       "      <td>0</td>\n",
       "      <td>0</td>\n",
       "      <td>0</td>\n",
       "      <td>0</td>\n",
       "      <td>0</td>\n",
       "      <td>1</td>\n",
       "    </tr>\n",
       "    <tr>\n",
       "      <th>1</th>\n",
       "      <td>45391</td>\n",
       "      <td>1</td>\n",
       "      <td>0</td>\n",
       "      <td>0</td>\n",
       "      <td>0</td>\n",
       "      <td>0</td>\n",
       "      <td>0</td>\n",
       "      <td>0</td>\n",
       "      <td>0</td>\n",
       "      <td>0</td>\n",
       "      <td>0</td>\n",
       "      <td>0</td>\n",
       "      <td>0</td>\n",
       "      <td>0</td>\n",
       "      <td>0</td>\n",
       "      <td>0</td>\n",
       "      <td>0</td>\n",
       "      <td>0</td>\n",
       "      <td>0</td>\n",
       "      <td>0</td>\n",
       "      <td>0</td>\n",
       "      <td>1</td>\n",
       "      <td>2</td>\n",
       "    </tr>\n",
       "    <tr>\n",
       "      <th>2</th>\n",
       "      <td>9754</td>\n",
       "      <td>1</td>\n",
       "      <td>0</td>\n",
       "      <td>0</td>\n",
       "      <td>0</td>\n",
       "      <td>0</td>\n",
       "      <td>0</td>\n",
       "      <td>0</td>\n",
       "      <td>0</td>\n",
       "      <td>0</td>\n",
       "      <td>0</td>\n",
       "      <td>0</td>\n",
       "      <td>0</td>\n",
       "      <td>0</td>\n",
       "      <td>0</td>\n",
       "      <td>0</td>\n",
       "      <td>0</td>\n",
       "      <td>0</td>\n",
       "      <td>0</td>\n",
       "      <td>0</td>\n",
       "      <td>0</td>\n",
       "      <td>1</td>\n",
       "      <td>2</td>\n",
       "    </tr>\n",
       "    <tr>\n",
       "      <th>3</th>\n",
       "      <td>30800</td>\n",
       "      <td>0</td>\n",
       "      <td>1</td>\n",
       "      <td>0</td>\n",
       "      <td>0</td>\n",
       "      <td>0</td>\n",
       "      <td>0</td>\n",
       "      <td>0</td>\n",
       "      <td>0</td>\n",
       "      <td>0</td>\n",
       "      <td>0</td>\n",
       "      <td>0</td>\n",
       "      <td>0</td>\n",
       "      <td>1</td>\n",
       "      <td>0</td>\n",
       "      <td>0</td>\n",
       "      <td>0</td>\n",
       "      <td>0</td>\n",
       "      <td>0</td>\n",
       "      <td>0</td>\n",
       "      <td>0</td>\n",
       "      <td>0</td>\n",
       "      <td>1</td>\n",
       "    </tr>\n",
       "    <tr>\n",
       "      <th>4</th>\n",
       "      <td>2840</td>\n",
       "      <td>0</td>\n",
       "      <td>1</td>\n",
       "      <td>0</td>\n",
       "      <td>0</td>\n",
       "      <td>0</td>\n",
       "      <td>0</td>\n",
       "      <td>0</td>\n",
       "      <td>0</td>\n",
       "      <td>0</td>\n",
       "      <td>0</td>\n",
       "      <td>0</td>\n",
       "      <td>0</td>\n",
       "      <td>1</td>\n",
       "      <td>0</td>\n",
       "      <td>0</td>\n",
       "      <td>0</td>\n",
       "      <td>0</td>\n",
       "      <td>0</td>\n",
       "      <td>0</td>\n",
       "      <td>0</td>\n",
       "      <td>0</td>\n",
       "      <td>4</td>\n",
       "    </tr>\n",
       "  </tbody>\n",
       "</table>\n",
       "</div>"
      ],
      "text/plain": [
       "   msrp  trading_partner_cn  ...  product_wearing_apparel_accessories  line_count\n",
       "0 49314                   1  ...                                    0           1\n",
       "1 45391                   1  ...                                    1           2\n",
       "2  9754                   1  ...                                    1           2\n",
       "3 30800                   0  ...                                    0           1\n",
       "4  2840                   0  ...                                    0           4\n",
       "\n",
       "[5 rows x 23 columns]"
      ]
     },
     "execution_count": 46,
     "metadata": {},
     "output_type": "execute_result"
    }
   ],
   "source": [
    "from etl_ipr_data import transform\n",
    "\n",
    "ipr_data_processed_df = transform(ipr_data_df)\n",
    "\n",
    "print(\"Features:\")\n",
    "print(\"\\n\".join(ipr_data_processed_df.columns))\n",
    "\n",
    "ipr_data_processed_df.head()"
   ]
  },
  {
   "cell_type": "markdown",
   "metadata": {},
   "source": [
    "Finally, we'll add a constant column which is the target class of the column:"
   ]
  },
  {
   "cell_type": "code",
   "execution_count": 47,
   "metadata": {},
   "outputs": [],
   "source": [
    "ipr_data_processed_df['seized'] = 1.0"
   ]
  },
  {
   "cell_type": "code",
   "execution_count": 48,
   "metadata": {},
   "outputs": [
    {
     "data": {
      "text/html": [
       "<div>\n",
       "<style scoped>\n",
       "    .dataframe tbody tr th:only-of-type {\n",
       "        vertical-align: middle;\n",
       "    }\n",
       "\n",
       "    .dataframe tbody tr th {\n",
       "        vertical-align: top;\n",
       "    }\n",
       "\n",
       "    .dataframe thead th {\n",
       "        text-align: right;\n",
       "    }\n",
       "</style>\n",
       "<table border=\"1\" class=\"dataframe\">\n",
       "  <thead>\n",
       "    <tr style=\"text-align: right;\">\n",
       "      <th></th>\n",
       "      <th>msrp</th>\n",
       "      <th>trading_partner_cn</th>\n",
       "      <th>trading_partner_hk</th>\n",
       "      <th>trading_partner_other_countries</th>\n",
       "      <th>trading_partner_sg</th>\n",
       "      <th>trading_partner_tr</th>\n",
       "      <th>product_ball_bearings</th>\n",
       "      <th>product_cigarettes</th>\n",
       "      <th>product_computers_accessories</th>\n",
       "      <th>product_consumer_electronics</th>\n",
       "      <th>product_consumer_products</th>\n",
       "      <th>product_food</th>\n",
       "      <th>product_footwear</th>\n",
       "      <th>product_handbags_wallets</th>\n",
       "      <th>product_labels_tags</th>\n",
       "      <th>product_optical_media</th>\n",
       "      <th>product_other</th>\n",
       "      <th>product_pharmaceuticals_personal_care</th>\n",
       "      <th>product_sporting_goods</th>\n",
       "      <th>product_toys</th>\n",
       "      <th>product_watches_jewelry</th>\n",
       "      <th>product_wearing_apparel_accessories</th>\n",
       "      <th>line_count</th>\n",
       "      <th>seized</th>\n",
       "    </tr>\n",
       "  </thead>\n",
       "  <tbody>\n",
       "    <tr>\n",
       "      <th>0</th>\n",
       "      <td>49314</td>\n",
       "      <td>1</td>\n",
       "      <td>0</td>\n",
       "      <td>0</td>\n",
       "      <td>0</td>\n",
       "      <td>0</td>\n",
       "      <td>0</td>\n",
       "      <td>0</td>\n",
       "      <td>0</td>\n",
       "      <td>0</td>\n",
       "      <td>0</td>\n",
       "      <td>0</td>\n",
       "      <td>0</td>\n",
       "      <td>0</td>\n",
       "      <td>0</td>\n",
       "      <td>0</td>\n",
       "      <td>1</td>\n",
       "      <td>0</td>\n",
       "      <td>0</td>\n",
       "      <td>0</td>\n",
       "      <td>0</td>\n",
       "      <td>0</td>\n",
       "      <td>1</td>\n",
       "      <td>1</td>\n",
       "    </tr>\n",
       "    <tr>\n",
       "      <th>1</th>\n",
       "      <td>45391</td>\n",
       "      <td>1</td>\n",
       "      <td>0</td>\n",
       "      <td>0</td>\n",
       "      <td>0</td>\n",
       "      <td>0</td>\n",
       "      <td>0</td>\n",
       "      <td>0</td>\n",
       "      <td>0</td>\n",
       "      <td>0</td>\n",
       "      <td>0</td>\n",
       "      <td>0</td>\n",
       "      <td>0</td>\n",
       "      <td>0</td>\n",
       "      <td>0</td>\n",
       "      <td>0</td>\n",
       "      <td>0</td>\n",
       "      <td>0</td>\n",
       "      <td>0</td>\n",
       "      <td>0</td>\n",
       "      <td>0</td>\n",
       "      <td>1</td>\n",
       "      <td>2</td>\n",
       "      <td>1</td>\n",
       "    </tr>\n",
       "    <tr>\n",
       "      <th>2</th>\n",
       "      <td>9754</td>\n",
       "      <td>1</td>\n",
       "      <td>0</td>\n",
       "      <td>0</td>\n",
       "      <td>0</td>\n",
       "      <td>0</td>\n",
       "      <td>0</td>\n",
       "      <td>0</td>\n",
       "      <td>0</td>\n",
       "      <td>0</td>\n",
       "      <td>0</td>\n",
       "      <td>0</td>\n",
       "      <td>0</td>\n",
       "      <td>0</td>\n",
       "      <td>0</td>\n",
       "      <td>0</td>\n",
       "      <td>0</td>\n",
       "      <td>0</td>\n",
       "      <td>0</td>\n",
       "      <td>0</td>\n",
       "      <td>0</td>\n",
       "      <td>1</td>\n",
       "      <td>2</td>\n",
       "      <td>1</td>\n",
       "    </tr>\n",
       "    <tr>\n",
       "      <th>3</th>\n",
       "      <td>30800</td>\n",
       "      <td>0</td>\n",
       "      <td>1</td>\n",
       "      <td>0</td>\n",
       "      <td>0</td>\n",
       "      <td>0</td>\n",
       "      <td>0</td>\n",
       "      <td>0</td>\n",
       "      <td>0</td>\n",
       "      <td>0</td>\n",
       "      <td>0</td>\n",
       "      <td>0</td>\n",
       "      <td>0</td>\n",
       "      <td>1</td>\n",
       "      <td>0</td>\n",
       "      <td>0</td>\n",
       "      <td>0</td>\n",
       "      <td>0</td>\n",
       "      <td>0</td>\n",
       "      <td>0</td>\n",
       "      <td>0</td>\n",
       "      <td>0</td>\n",
       "      <td>1</td>\n",
       "      <td>1</td>\n",
       "    </tr>\n",
       "    <tr>\n",
       "      <th>4</th>\n",
       "      <td>2840</td>\n",
       "      <td>0</td>\n",
       "      <td>1</td>\n",
       "      <td>0</td>\n",
       "      <td>0</td>\n",
       "      <td>0</td>\n",
       "      <td>0</td>\n",
       "      <td>0</td>\n",
       "      <td>0</td>\n",
       "      <td>0</td>\n",
       "      <td>0</td>\n",
       "      <td>0</td>\n",
       "      <td>0</td>\n",
       "      <td>1</td>\n",
       "      <td>0</td>\n",
       "      <td>0</td>\n",
       "      <td>0</td>\n",
       "      <td>0</td>\n",
       "      <td>0</td>\n",
       "      <td>0</td>\n",
       "      <td>0</td>\n",
       "      <td>0</td>\n",
       "      <td>4</td>\n",
       "      <td>1</td>\n",
       "    </tr>\n",
       "  </tbody>\n",
       "</table>\n",
       "</div>"
      ],
      "text/plain": [
       "   msrp  trading_partner_cn  ...  line_count  seized\n",
       "0 49314                   1  ...           1       1\n",
       "1 45391                   1  ...           2       1\n",
       "2  9754                   1  ...           2       1\n",
       "3 30800                   0  ...           1       1\n",
       "4  2840                   0  ...           4       1\n",
       "\n",
       "[5 rows x 24 columns]"
      ]
     },
     "execution_count": 48,
     "metadata": {},
     "output_type": "execute_result"
    }
   ],
   "source": [
    "ipr_data_processed_df.head()"
   ]
  },
  {
   "cell_type": "markdown",
   "metadata": {},
   "source": [
    "## Feature selection"
   ]
  },
  {
   "cell_type": "markdown",
   "metadata": {},
   "source": [
    "First the total number of features:"
   ]
  },
  {
   "cell_type": "code",
   "execution_count": 49,
   "metadata": {},
   "outputs": [
    {
     "name": "stdout",
     "output_type": "stream",
     "text": [
      "24\n",
      "msrp\n",
      "trading_partner_cn\n",
      "trading_partner_hk\n",
      "trading_partner_other_countries\n",
      "trading_partner_sg\n",
      "trading_partner_tr\n",
      "product_ball_bearings\n",
      "product_cigarettes\n",
      "product_computers_accessories\n",
      "product_consumer_electronics\n",
      "product_consumer_products\n",
      "product_food\n",
      "product_footwear\n",
      "product_handbags_wallets\n",
      "product_labels_tags\n",
      "product_optical_media\n",
      "product_other\n",
      "product_pharmaceuticals_personal_care\n",
      "product_sporting_goods\n",
      "product_toys\n",
      "product_watches_jewelry\n",
      "product_wearing_apparel_accessories\n",
      "line_count\n",
      "seized\n"
     ]
    }
   ],
   "source": [
    "print(len(ipr_data_processed_df.columns))\n",
    "print(\"\\n\".join(ipr_data_processed_df.columns))"
   ]
  },
  {
   "cell_type": "code",
   "execution_count": 50,
   "metadata": {},
   "outputs": [
    {
     "data": {
      "text/html": [
       "<style>#sk-container-id-2 {color: black;}#sk-container-id-2 pre{padding: 0;}#sk-container-id-2 div.sk-toggleable {background-color: white;}#sk-container-id-2 label.sk-toggleable__label {cursor: pointer;display: block;width: 100%;margin-bottom: 0;padding: 0.3em;box-sizing: border-box;text-align: center;}#sk-container-id-2 label.sk-toggleable__label-arrow:before {content: \"▸\";float: left;margin-right: 0.25em;color: #696969;}#sk-container-id-2 label.sk-toggleable__label-arrow:hover:before {color: black;}#sk-container-id-2 div.sk-estimator:hover label.sk-toggleable__label-arrow:before {color: black;}#sk-container-id-2 div.sk-toggleable__content {max-height: 0;max-width: 0;overflow: hidden;text-align: left;background-color: #f0f8ff;}#sk-container-id-2 div.sk-toggleable__content pre {margin: 0.2em;color: black;border-radius: 0.25em;background-color: #f0f8ff;}#sk-container-id-2 input.sk-toggleable__control:checked~div.sk-toggleable__content {max-height: 200px;max-width: 100%;overflow: auto;}#sk-container-id-2 input.sk-toggleable__control:checked~label.sk-toggleable__label-arrow:before {content: \"▾\";}#sk-container-id-2 div.sk-estimator input.sk-toggleable__control:checked~label.sk-toggleable__label {background-color: #d4ebff;}#sk-container-id-2 div.sk-label input.sk-toggleable__control:checked~label.sk-toggleable__label {background-color: #d4ebff;}#sk-container-id-2 input.sk-hidden--visually {border: 0;clip: rect(1px 1px 1px 1px);clip: rect(1px, 1px, 1px, 1px);height: 1px;margin: -1px;overflow: hidden;padding: 0;position: absolute;width: 1px;}#sk-container-id-2 div.sk-estimator {font-family: monospace;background-color: #f0f8ff;border: 1px dotted black;border-radius: 0.25em;box-sizing: border-box;margin-bottom: 0.5em;}#sk-container-id-2 div.sk-estimator:hover {background-color: #d4ebff;}#sk-container-id-2 div.sk-parallel-item::after {content: \"\";width: 100%;border-bottom: 1px solid gray;flex-grow: 1;}#sk-container-id-2 div.sk-label:hover label.sk-toggleable__label {background-color: #d4ebff;}#sk-container-id-2 div.sk-serial::before {content: \"\";position: absolute;border-left: 1px solid gray;box-sizing: border-box;top: 0;bottom: 0;left: 50%;z-index: 0;}#sk-container-id-2 div.sk-serial {display: flex;flex-direction: column;align-items: center;background-color: white;padding-right: 0.2em;padding-left: 0.2em;position: relative;}#sk-container-id-2 div.sk-item {position: relative;z-index: 1;}#sk-container-id-2 div.sk-parallel {display: flex;align-items: stretch;justify-content: center;background-color: white;position: relative;}#sk-container-id-2 div.sk-item::before, #sk-container-id-2 div.sk-parallel-item::before {content: \"\";position: absolute;border-left: 1px solid gray;box-sizing: border-box;top: 0;bottom: 0;left: 50%;z-index: -1;}#sk-container-id-2 div.sk-parallel-item {display: flex;flex-direction: column;z-index: 1;position: relative;background-color: white;}#sk-container-id-2 div.sk-parallel-item:first-child::after {align-self: flex-end;width: 50%;}#sk-container-id-2 div.sk-parallel-item:last-child::after {align-self: flex-start;width: 50%;}#sk-container-id-2 div.sk-parallel-item:only-child::after {width: 0;}#sk-container-id-2 div.sk-dashed-wrapped {border: 1px dashed gray;margin: 0 0.4em 0.5em 0.4em;box-sizing: border-box;padding-bottom: 0.4em;background-color: white;}#sk-container-id-2 div.sk-label label {font-family: monospace;font-weight: bold;display: inline-block;line-height: 1.2em;}#sk-container-id-2 div.sk-label-container {text-align: center;}#sk-container-id-2 div.sk-container {/* jupyter's `normalize.less` sets `[hidden] { display: none; }` but bootstrap.min.css set `[hidden] { display: none !important; }` so we also need the `!important` here to be able to override the default hidden behavior on the sphinx rendered scikit-learn.org. See: https://github.com/scikit-learn/scikit-learn/issues/21755 */display: inline-block !important;position: relative;}#sk-container-id-2 div.sk-text-repr-fallback {display: none;}</style><div id=\"sk-container-id-2\" class=\"sk-top-container\"><div class=\"sk-text-repr-fallback\"><pre>RFE(estimator=DecisionTreeClassifier(), n_features_to_select=24)</pre><b>In a Jupyter environment, please rerun this cell to show the HTML representation or trust the notebook. <br />On GitHub, the HTML representation is unable to render, please try loading this page with nbviewer.org.</b></div><div class=\"sk-container\" hidden><div class=\"sk-item sk-dashed-wrapped\"><div class=\"sk-label-container\"><div class=\"sk-label sk-toggleable\"><input class=\"sk-toggleable__control sk-hidden--visually\" id=\"sk-estimator-id-4\" type=\"checkbox\" ><label for=\"sk-estimator-id-4\" class=\"sk-toggleable__label sk-toggleable__label-arrow\">RFE</label><div class=\"sk-toggleable__content\"><pre>RFE(estimator=DecisionTreeClassifier(), n_features_to_select=24)</pre></div></div></div><div class=\"sk-parallel\"><div class=\"sk-parallel-item\"><div class=\"sk-item\"><div class=\"sk-label-container\"><div class=\"sk-label sk-toggleable\"><input class=\"sk-toggleable__control sk-hidden--visually\" id=\"sk-estimator-id-5\" type=\"checkbox\" ><label for=\"sk-estimator-id-5\" class=\"sk-toggleable__label sk-toggleable__label-arrow\">estimator: DecisionTreeClassifier</label><div class=\"sk-toggleable__content\"><pre>DecisionTreeClassifier()</pre></div></div></div><div class=\"sk-serial\"><div class=\"sk-item\"><div class=\"sk-estimator sk-toggleable\"><input class=\"sk-toggleable__control sk-hidden--visually\" id=\"sk-estimator-id-6\" type=\"checkbox\" ><label for=\"sk-estimator-id-6\" class=\"sk-toggleable__label sk-toggleable__label-arrow\">DecisionTreeClassifier</label><div class=\"sk-toggleable__content\"><pre>DecisionTreeClassifier()</pre></div></div></div></div></div></div></div></div></div></div>"
      ],
      "text/plain": [
       "RFE(estimator=DecisionTreeClassifier(), n_features_to_select=24)"
      ]
     },
     "execution_count": 50,
     "metadata": {},
     "output_type": "execute_result"
    }
   ],
   "source": [
    "from sklearn.feature_selection import RFE\n",
    "from sklearn.tree import DecisionTreeClassifier\n",
    "\n",
    "N_FEATURES = len(ipr_data_processed_df.columns)\n",
    "X = ipr_data_processed_df[ipr_data_processed_df.columns.difference(['seized'])]\n",
    "y = ipr_data_processed_df['seized']\n",
    "\n",
    "rfe = RFE(estimator=DecisionTreeClassifier(), n_features_to_select=N_FEATURES)\n",
    "rfe.fit(X, y)"
   ]
  },
  {
   "cell_type": "code",
   "execution_count": 51,
   "metadata": {},
   "outputs": [
    {
     "data": {
      "text/html": [
       "<div>\n",
       "<style scoped>\n",
       "    .dataframe tbody tr th:only-of-type {\n",
       "        vertical-align: middle;\n",
       "    }\n",
       "\n",
       "    .dataframe tbody tr th {\n",
       "        vertical-align: top;\n",
       "    }\n",
       "\n",
       "    .dataframe thead th {\n",
       "        text-align: right;\n",
       "    }\n",
       "</style>\n",
       "<table border=\"1\" class=\"dataframe\">\n",
       "  <thead>\n",
       "    <tr style=\"text-align: right;\">\n",
       "      <th></th>\n",
       "      <th>index</th>\n",
       "      <th>feature_name</th>\n",
       "      <th>rank</th>\n",
       "    </tr>\n",
       "  </thead>\n",
       "  <tbody>\n",
       "    <tr>\n",
       "      <th>0</th>\n",
       "      <td>0</td>\n",
       "      <td>line_count</td>\n",
       "      <td>1</td>\n",
       "    </tr>\n",
       "    <tr>\n",
       "      <th>1</th>\n",
       "      <td>1</td>\n",
       "      <td>msrp</td>\n",
       "      <td>1</td>\n",
       "    </tr>\n",
       "    <tr>\n",
       "      <th>2</th>\n",
       "      <td>2</td>\n",
       "      <td>product_ball_bearings</td>\n",
       "      <td>1</td>\n",
       "    </tr>\n",
       "    <tr>\n",
       "      <th>3</th>\n",
       "      <td>3</td>\n",
       "      <td>product_cigarettes</td>\n",
       "      <td>1</td>\n",
       "    </tr>\n",
       "    <tr>\n",
       "      <th>4</th>\n",
       "      <td>4</td>\n",
       "      <td>product_computers_accessories</td>\n",
       "      <td>1</td>\n",
       "    </tr>\n",
       "    <tr>\n",
       "      <th>5</th>\n",
       "      <td>5</td>\n",
       "      <td>product_consumer_electronics</td>\n",
       "      <td>1</td>\n",
       "    </tr>\n",
       "    <tr>\n",
       "      <th>6</th>\n",
       "      <td>6</td>\n",
       "      <td>product_consumer_products</td>\n",
       "      <td>1</td>\n",
       "    </tr>\n",
       "    <tr>\n",
       "      <th>7</th>\n",
       "      <td>7</td>\n",
       "      <td>product_food</td>\n",
       "      <td>1</td>\n",
       "    </tr>\n",
       "    <tr>\n",
       "      <th>8</th>\n",
       "      <td>8</td>\n",
       "      <td>product_footwear</td>\n",
       "      <td>1</td>\n",
       "    </tr>\n",
       "    <tr>\n",
       "      <th>9</th>\n",
       "      <td>9</td>\n",
       "      <td>product_handbags_wallets</td>\n",
       "      <td>1</td>\n",
       "    </tr>\n",
       "    <tr>\n",
       "      <th>10</th>\n",
       "      <td>10</td>\n",
       "      <td>product_labels_tags</td>\n",
       "      <td>1</td>\n",
       "    </tr>\n",
       "    <tr>\n",
       "      <th>11</th>\n",
       "      <td>11</td>\n",
       "      <td>product_optical_media</td>\n",
       "      <td>1</td>\n",
       "    </tr>\n",
       "    <tr>\n",
       "      <th>12</th>\n",
       "      <td>12</td>\n",
       "      <td>product_other</td>\n",
       "      <td>1</td>\n",
       "    </tr>\n",
       "    <tr>\n",
       "      <th>13</th>\n",
       "      <td>13</td>\n",
       "      <td>product_pharmaceuticals_personal_care</td>\n",
       "      <td>1</td>\n",
       "    </tr>\n",
       "    <tr>\n",
       "      <th>14</th>\n",
       "      <td>14</td>\n",
       "      <td>product_sporting_goods</td>\n",
       "      <td>1</td>\n",
       "    </tr>\n",
       "    <tr>\n",
       "      <th>15</th>\n",
       "      <td>15</td>\n",
       "      <td>product_toys</td>\n",
       "      <td>1</td>\n",
       "    </tr>\n",
       "    <tr>\n",
       "      <th>16</th>\n",
       "      <td>16</td>\n",
       "      <td>product_watches_jewelry</td>\n",
       "      <td>1</td>\n",
       "    </tr>\n",
       "    <tr>\n",
       "      <th>17</th>\n",
       "      <td>17</td>\n",
       "      <td>product_wearing_apparel_accessories</td>\n",
       "      <td>1</td>\n",
       "    </tr>\n",
       "    <tr>\n",
       "      <th>18</th>\n",
       "      <td>18</td>\n",
       "      <td>trading_partner_cn</td>\n",
       "      <td>1</td>\n",
       "    </tr>\n",
       "    <tr>\n",
       "      <th>19</th>\n",
       "      <td>19</td>\n",
       "      <td>trading_partner_hk</td>\n",
       "      <td>1</td>\n",
       "    </tr>\n",
       "    <tr>\n",
       "      <th>20</th>\n",
       "      <td>20</td>\n",
       "      <td>trading_partner_other_countries</td>\n",
       "      <td>1</td>\n",
       "    </tr>\n",
       "    <tr>\n",
       "      <th>21</th>\n",
       "      <td>21</td>\n",
       "      <td>trading_partner_sg</td>\n",
       "      <td>1</td>\n",
       "    </tr>\n",
       "    <tr>\n",
       "      <th>22</th>\n",
       "      <td>22</td>\n",
       "      <td>trading_partner_tr</td>\n",
       "      <td>1</td>\n",
       "    </tr>\n",
       "  </tbody>\n",
       "</table>\n",
       "</div>"
      ],
      "text/plain": [
       "    index                           feature_name  rank\n",
       "0       0                             line_count     1\n",
       "1       1                                   msrp     1\n",
       "2       2                  product_ball_bearings     1\n",
       "3       3                     product_cigarettes     1\n",
       "4       4          product_computers_accessories     1\n",
       "5       5           product_consumer_electronics     1\n",
       "6       6              product_consumer_products     1\n",
       "7       7                           product_food     1\n",
       "8       8                       product_footwear     1\n",
       "9       9               product_handbags_wallets     1\n",
       "10     10                    product_labels_tags     1\n",
       "11     11                  product_optical_media     1\n",
       "12     12                          product_other     1\n",
       "13     13  product_pharmaceuticals_personal_care     1\n",
       "14     14                 product_sporting_goods     1\n",
       "15     15                           product_toys     1\n",
       "16     16                product_watches_jewelry     1\n",
       "17     17    product_wearing_apparel_accessories     1\n",
       "18     18                     trading_partner_cn     1\n",
       "19     19                     trading_partner_hk     1\n",
       "20     20        trading_partner_other_countries     1\n",
       "21     21                     trading_partner_sg     1\n",
       "22     22                     trading_partner_tr     1"
      ]
     },
     "execution_count": 51,
     "metadata": {},
     "output_type": "execute_result"
    }
   ],
   "source": [
    "features = []\n",
    "for i in range(X.shape[1]):\n",
    "    if not rfe.support_[i]:\n",
    "        continue\n",
    "    features.append({'index': i, 'feature_name': X.columns[i], 'rank': rfe.ranking_[i]})\n",
    "\n",
    "features_df = pd.DataFrame(features, columns=['index', 'feature_name', 'rank'])\n",
    "features_df"
   ]
  },
  {
   "cell_type": "markdown",
   "metadata": {},
   "source": [
    "From looking at the results it seems that all features are ranked equally; this may be because the categorical product features indicate a direct seizure on our data set. \n",
    "\n",
    "Since we're mostly interested in country and our full product list is all of the same category, we'll remove all `product_` features and try another feature extractor."
   ]
  },
  {
   "cell_type": "code",
   "execution_count": 52,
   "metadata": {},
   "outputs": [
    {
     "data": {
      "text/html": [
       "<div>\n",
       "<style scoped>\n",
       "    .dataframe tbody tr th:only-of-type {\n",
       "        vertical-align: middle;\n",
       "    }\n",
       "\n",
       "    .dataframe tbody tr th {\n",
       "        vertical-align: top;\n",
       "    }\n",
       "\n",
       "    .dataframe thead th {\n",
       "        text-align: right;\n",
       "    }\n",
       "</style>\n",
       "<table border=\"1\" class=\"dataframe\">\n",
       "  <thead>\n",
       "    <tr style=\"text-align: right;\">\n",
       "      <th></th>\n",
       "      <th>msrp</th>\n",
       "      <th>trading_partner_cn</th>\n",
       "      <th>trading_partner_hk</th>\n",
       "      <th>trading_partner_other_countries</th>\n",
       "      <th>trading_partner_sg</th>\n",
       "      <th>trading_partner_tr</th>\n",
       "      <th>line_count</th>\n",
       "      <th>seized</th>\n",
       "    </tr>\n",
       "  </thead>\n",
       "  <tbody>\n",
       "    <tr>\n",
       "      <th>0</th>\n",
       "      <td>49314</td>\n",
       "      <td>1</td>\n",
       "      <td>0</td>\n",
       "      <td>0</td>\n",
       "      <td>0</td>\n",
       "      <td>0</td>\n",
       "      <td>1</td>\n",
       "      <td>1</td>\n",
       "    </tr>\n",
       "    <tr>\n",
       "      <th>1</th>\n",
       "      <td>45391</td>\n",
       "      <td>1</td>\n",
       "      <td>0</td>\n",
       "      <td>0</td>\n",
       "      <td>0</td>\n",
       "      <td>0</td>\n",
       "      <td>2</td>\n",
       "      <td>1</td>\n",
       "    </tr>\n",
       "    <tr>\n",
       "      <th>2</th>\n",
       "      <td>9754</td>\n",
       "      <td>1</td>\n",
       "      <td>0</td>\n",
       "      <td>0</td>\n",
       "      <td>0</td>\n",
       "      <td>0</td>\n",
       "      <td>2</td>\n",
       "      <td>1</td>\n",
       "    </tr>\n",
       "    <tr>\n",
       "      <th>3</th>\n",
       "      <td>30800</td>\n",
       "      <td>0</td>\n",
       "      <td>1</td>\n",
       "      <td>0</td>\n",
       "      <td>0</td>\n",
       "      <td>0</td>\n",
       "      <td>1</td>\n",
       "      <td>1</td>\n",
       "    </tr>\n",
       "    <tr>\n",
       "      <th>4</th>\n",
       "      <td>2840</td>\n",
       "      <td>0</td>\n",
       "      <td>1</td>\n",
       "      <td>0</td>\n",
       "      <td>0</td>\n",
       "      <td>0</td>\n",
       "      <td>4</td>\n",
       "      <td>1</td>\n",
       "    </tr>\n",
       "    <tr>\n",
       "      <th>...</th>\n",
       "      <td>...</td>\n",
       "      <td>...</td>\n",
       "      <td>...</td>\n",
       "      <td>...</td>\n",
       "      <td>...</td>\n",
       "      <td>...</td>\n",
       "      <td>...</td>\n",
       "      <td>...</td>\n",
       "    </tr>\n",
       "    <tr>\n",
       "      <th>444108</th>\n",
       "      <td>6980</td>\n",
       "      <td>0</td>\n",
       "      <td>1</td>\n",
       "      <td>0</td>\n",
       "      <td>0</td>\n",
       "      <td>0</td>\n",
       "      <td>3</td>\n",
       "      <td>1</td>\n",
       "    </tr>\n",
       "    <tr>\n",
       "      <th>444109</th>\n",
       "      <td>780</td>\n",
       "      <td>0</td>\n",
       "      <td>1</td>\n",
       "      <td>0</td>\n",
       "      <td>0</td>\n",
       "      <td>0</td>\n",
       "      <td>3</td>\n",
       "      <td>1</td>\n",
       "    </tr>\n",
       "    <tr>\n",
       "      <th>444110</th>\n",
       "      <td>11130</td>\n",
       "      <td>0</td>\n",
       "      <td>1</td>\n",
       "      <td>0</td>\n",
       "      <td>0</td>\n",
       "      <td>0</td>\n",
       "      <td>1</td>\n",
       "      <td>1</td>\n",
       "    </tr>\n",
       "    <tr>\n",
       "      <th>444111</th>\n",
       "      <td>1927</td>\n",
       "      <td>0</td>\n",
       "      <td>1</td>\n",
       "      <td>0</td>\n",
       "      <td>0</td>\n",
       "      <td>0</td>\n",
       "      <td>2</td>\n",
       "      <td>1</td>\n",
       "    </tr>\n",
       "    <tr>\n",
       "      <th>444112</th>\n",
       "      <td>5490</td>\n",
       "      <td>0</td>\n",
       "      <td>1</td>\n",
       "      <td>0</td>\n",
       "      <td>0</td>\n",
       "      <td>0</td>\n",
       "      <td>2</td>\n",
       "      <td>1</td>\n",
       "    </tr>\n",
       "  </tbody>\n",
       "</table>\n",
       "<p>444113 rows × 8 columns</p>\n",
       "</div>"
      ],
      "text/plain": [
       "        msrp  trading_partner_cn  ...  line_count  seized\n",
       "0      49314                   1  ...           1       1\n",
       "1      45391                   1  ...           2       1\n",
       "2       9754                   1  ...           2       1\n",
       "3      30800                   0  ...           1       1\n",
       "4       2840                   0  ...           4       1\n",
       "...      ...                 ...  ...         ...     ...\n",
       "444108  6980                   0  ...           3       1\n",
       "444109   780                   0  ...           3       1\n",
       "444110 11130                   0  ...           1       1\n",
       "444111  1927                   0  ...           2       1\n",
       "444112  5490                   0  ...           2       1\n",
       "\n",
       "[444113 rows x 8 columns]"
      ]
     },
     "execution_count": 52,
     "metadata": {},
     "output_type": "execute_result"
    }
   ],
   "source": [
    "ipr_data_processed_df.drop(columns=[c for c in ipr_data_processed_df.columns if c.startswith(\"product_\")], inplace=True)\n",
    "ipr_data_processed_df"
   ]
  },
  {
   "cell_type": "code",
   "execution_count": 53,
   "metadata": {},
   "outputs": [
    {
     "data": {
      "text/html": [
       "<div>\n",
       "<style scoped>\n",
       "    .dataframe tbody tr th:only-of-type {\n",
       "        vertical-align: middle;\n",
       "    }\n",
       "\n",
       "    .dataframe tbody tr th {\n",
       "        vertical-align: top;\n",
       "    }\n",
       "\n",
       "    .dataframe thead th {\n",
       "        text-align: right;\n",
       "    }\n",
       "</style>\n",
       "<table border=\"1\" class=\"dataframe\">\n",
       "  <thead>\n",
       "    <tr style=\"text-align: right;\">\n",
       "      <th></th>\n",
       "      <th>index</th>\n",
       "      <th>feature_name</th>\n",
       "      <th>rank</th>\n",
       "    </tr>\n",
       "  </thead>\n",
       "  <tbody>\n",
       "    <tr>\n",
       "      <th>0</th>\n",
       "      <td>0</td>\n",
       "      <td>line_count</td>\n",
       "      <td>1</td>\n",
       "    </tr>\n",
       "    <tr>\n",
       "      <th>1</th>\n",
       "      <td>1</td>\n",
       "      <td>msrp</td>\n",
       "      <td>1</td>\n",
       "    </tr>\n",
       "    <tr>\n",
       "      <th>2</th>\n",
       "      <td>2</td>\n",
       "      <td>trading_partner_cn</td>\n",
       "      <td>1</td>\n",
       "    </tr>\n",
       "    <tr>\n",
       "      <th>3</th>\n",
       "      <td>3</td>\n",
       "      <td>trading_partner_hk</td>\n",
       "      <td>1</td>\n",
       "    </tr>\n",
       "    <tr>\n",
       "      <th>4</th>\n",
       "      <td>4</td>\n",
       "      <td>trading_partner_other_countries</td>\n",
       "      <td>1</td>\n",
       "    </tr>\n",
       "    <tr>\n",
       "      <th>5</th>\n",
       "      <td>5</td>\n",
       "      <td>trading_partner_sg</td>\n",
       "      <td>1</td>\n",
       "    </tr>\n",
       "    <tr>\n",
       "      <th>6</th>\n",
       "      <td>6</td>\n",
       "      <td>trading_partner_tr</td>\n",
       "      <td>1</td>\n",
       "    </tr>\n",
       "  </tbody>\n",
       "</table>\n",
       "</div>"
      ],
      "text/plain": [
       "   index                     feature_name  rank\n",
       "0      0                       line_count     1\n",
       "1      1                             msrp     1\n",
       "2      2               trading_partner_cn     1\n",
       "3      3               trading_partner_hk     1\n",
       "4      4  trading_partner_other_countries     1\n",
       "5      5               trading_partner_sg     1\n",
       "6      6               trading_partner_tr     1"
      ]
     },
     "execution_count": 53,
     "metadata": {},
     "output_type": "execute_result"
    }
   ],
   "source": [
    "from feature_util import create_rfe_df\n",
    "features_no_product_df = create_rfe_df(ipr_data_processed_df, 9, 'seized')\n",
    "features_no_product_df"
   ]
  },
  {
   "cell_type": "markdown",
   "metadata": {},
   "source": [
    "Looking at the results it seems like removing `product_` yields no difference in feature selection."
   ]
  },
  {
   "cell_type": "markdown",
   "metadata": {},
   "source": [
    "## Model Training"
   ]
  },
  {
   "cell_type": "markdown",
   "metadata": {},
   "source": [
    "First since all features seem to have the same ranking we'll proceed to train our model; first we'll split our data set in training, we'll use the following splits for our data:\n",
    "\n",
    "  * Training: 70%\n",
    "  * Cross-Validation: 15%\n",
    "  * Testing: 15%"
   ]
  },
  {
   "cell_type": "code",
   "execution_count": 54,
   "metadata": {},
   "outputs": [],
   "source": [
    "from sklearn.model_selection import train_test_split\n",
    "\n",
    "y_name = \"seized\"\n",
    "X_train, X_test, y_train, y_test = train_test_split(\n",
    "    ipr_data_processed_df[ipr_data_processed_df.columns.difference([y_name])],\n",
    "    ipr_data_processed_df[y_name],\n",
    "    test_size=0.3,\n",
    "    random_state=42,\n",
    ")\n",
    "\n",
    "X_test, X_cv, y_test, y_cv = train_test_split(\n",
    "    X_test, y_test, test_size=0.5, random_state=21\n",
    ")"
   ]
  },
  {
   "cell_type": "code",
   "execution_count": 55,
   "metadata": {},
   "outputs": [
    {
     "name": "stdout",
     "output_type": "stream",
     "text": [
      "Total: 444113\n",
      "-----\n",
      "Train: 310879 310879\n",
      "Test: 66617 66617\n",
      "CV: 66617 66617\n"
     ]
    }
   ],
   "source": [
    "print(\"Total:\", len(ipr_data_processed_df))\n",
    "print(\"-----\")\n",
    "print(\"Train:\", len(X_train), len(y_train))\n",
    "print(\"Test:\", len(X_test), len(y_test))\n",
    "print(\"CV:\", len(X_cv), len(y_cv))"
   ]
  },
  {
   "cell_type": "code",
   "execution_count": 56,
   "metadata": {},
   "outputs": [
    {
     "name": "stdout",
     "output_type": "stream",
     "text": [
      "        line_count  msrp  ...  trading_partner_sg  trading_partner_tr\n",
      "165092           3  1550  ...                   0                   0\n",
      "5400             9  2300  ...                   0                   0\n",
      "361631           8  2190  ...                   0                   0\n",
      "161397          94  2000  ...                   0                   0\n",
      "30555            2  1550  ...                   0                   1\n",
      "...            ...   ...  ...                 ...                 ...\n",
      "259178          11 11840  ...                   0                   0\n",
      "365838          11  1700  ...                   0                   0\n",
      "131932           4  8000  ...                   0                   0\n",
      "146867           7   900  ...                   0                   0\n",
      "121958           8  1350  ...                   0                   0\n",
      "\n",
      "[310879 rows x 7 columns] 165092   1 \n",
      "5400     1 \n",
      "361631   1 \n",
      "161397   1 \n",
      "30555    1 \n",
      "         ..\n",
      "259178   1 \n",
      "365838   1 \n",
      "131932   1 \n",
      "146867   1 \n",
      "121958   1 \n",
      "Name: seized, Length: 310879, dtype: float64\n",
      "        line_count  msrp  ...  trading_partner_sg  trading_partner_tr\n",
      "208176           8  4620  ...                   0                   1\n",
      "273547          89 30690  ...                   0                   0\n",
      "35073          166 22400  ...                   0                   0\n",
      "223983           6 11000  ...                   0                   0\n",
      "437476          14  3120  ...                   0                   0\n",
      "...            ...   ...  ...                 ...                 ...\n",
      "267392           1 19990  ...                   0                   0\n",
      "403200           2 88800  ...                   0                   0\n",
      "68117           23  1125  ...                   0                   0\n",
      "49995           71    24  ...                   0                   0\n",
      "262337          41   295  ...                   0                   1\n",
      "\n",
      "[66617 rows x 7 columns] 208176   1 \n",
      "273547   1 \n",
      "35073    1 \n",
      "223983   1 \n",
      "437476   1 \n",
      "         ..\n",
      "267392   1 \n",
      "403200   1 \n",
      "68117    1 \n",
      "49995    1 \n",
      "262337   1 \n",
      "Name: seized, Length: 66617, dtype: float64\n",
      "        line_count   msrp  ...  trading_partner_sg  trading_partner_tr\n",
      "407805         277   3898  ...                   0                   0\n",
      "413011          10     15  ...                   0                   0\n",
      "207877          25   8400  ...                   0                   1\n",
      "243055           1 299000  ...                   0                   0\n",
      "130540           7    815  ...                   0                   0\n",
      "...            ...    ...  ...                 ...                 ...\n",
      "15570           12  39000  ...                   0                   0\n",
      "233164           4   1000  ...                   0                   0\n",
      "287962          38   2800  ...                   0                   0\n",
      "331901           8   4830  ...                   0                   0\n",
      "354212          39      2  ...                   0                   0\n",
      "\n",
      "[66617 rows x 7 columns] 407805   1 \n",
      "413011   1 \n",
      "207877   1 \n",
      "243055   1 \n",
      "130540   1 \n",
      "         ..\n",
      "15570    1 \n",
      "233164   1 \n",
      "287962   1 \n",
      "331901   1 \n",
      "354212   1 \n",
      "Name: seized, Length: 66617, dtype: float64\n"
     ]
    },
    {
     "data": {
      "text/html": [
       "<div>\n",
       "<style scoped>\n",
       "    .dataframe tbody tr th:only-of-type {\n",
       "        vertical-align: middle;\n",
       "    }\n",
       "\n",
       "    .dataframe tbody tr th {\n",
       "        vertical-align: top;\n",
       "    }\n",
       "\n",
       "    .dataframe thead th {\n",
       "        text-align: right;\n",
       "    }\n",
       "</style>\n",
       "<table border=\"1\" class=\"dataframe\">\n",
       "  <thead>\n",
       "    <tr style=\"text-align: right;\">\n",
       "      <th></th>\n",
       "      <th>msrp</th>\n",
       "      <th>trading_partner_cn</th>\n",
       "      <th>trading_partner_hk</th>\n",
       "      <th>trading_partner_other_countries</th>\n",
       "      <th>trading_partner_sg</th>\n",
       "      <th>trading_partner_tr</th>\n",
       "      <th>line_count</th>\n",
       "      <th>seized</th>\n",
       "    </tr>\n",
       "  </thead>\n",
       "  <tbody>\n",
       "    <tr>\n",
       "      <th>407805</th>\n",
       "      <td>3898</td>\n",
       "      <td>1</td>\n",
       "      <td>0</td>\n",
       "      <td>0</td>\n",
       "      <td>0</td>\n",
       "      <td>0</td>\n",
       "      <td>277</td>\n",
       "      <td>1</td>\n",
       "    </tr>\n",
       "    <tr>\n",
       "      <th>413011</th>\n",
       "      <td>15</td>\n",
       "      <td>0</td>\n",
       "      <td>1</td>\n",
       "      <td>0</td>\n",
       "      <td>0</td>\n",
       "      <td>0</td>\n",
       "      <td>10</td>\n",
       "      <td>1</td>\n",
       "    </tr>\n",
       "    <tr>\n",
       "      <th>207877</th>\n",
       "      <td>8400</td>\n",
       "      <td>0</td>\n",
       "      <td>0</td>\n",
       "      <td>0</td>\n",
       "      <td>0</td>\n",
       "      <td>1</td>\n",
       "      <td>25</td>\n",
       "      <td>1</td>\n",
       "    </tr>\n",
       "    <tr>\n",
       "      <th>243055</th>\n",
       "      <td>299000</td>\n",
       "      <td>0</td>\n",
       "      <td>1</td>\n",
       "      <td>0</td>\n",
       "      <td>0</td>\n",
       "      <td>0</td>\n",
       "      <td>1</td>\n",
       "      <td>1</td>\n",
       "    </tr>\n",
       "    <tr>\n",
       "      <th>130540</th>\n",
       "      <td>815</td>\n",
       "      <td>0</td>\n",
       "      <td>1</td>\n",
       "      <td>0</td>\n",
       "      <td>0</td>\n",
       "      <td>0</td>\n",
       "      <td>7</td>\n",
       "      <td>1</td>\n",
       "    </tr>\n",
       "    <tr>\n",
       "      <th>...</th>\n",
       "      <td>...</td>\n",
       "      <td>...</td>\n",
       "      <td>...</td>\n",
       "      <td>...</td>\n",
       "      <td>...</td>\n",
       "      <td>...</td>\n",
       "      <td>...</td>\n",
       "      <td>...</td>\n",
       "    </tr>\n",
       "    <tr>\n",
       "      <th>15570</th>\n",
       "      <td>39000</td>\n",
       "      <td>1</td>\n",
       "      <td>0</td>\n",
       "      <td>0</td>\n",
       "      <td>0</td>\n",
       "      <td>0</td>\n",
       "      <td>12</td>\n",
       "      <td>1</td>\n",
       "    </tr>\n",
       "    <tr>\n",
       "      <th>233164</th>\n",
       "      <td>1000</td>\n",
       "      <td>0</td>\n",
       "      <td>1</td>\n",
       "      <td>0</td>\n",
       "      <td>0</td>\n",
       "      <td>0</td>\n",
       "      <td>4</td>\n",
       "      <td>1</td>\n",
       "    </tr>\n",
       "    <tr>\n",
       "      <th>287962</th>\n",
       "      <td>2800</td>\n",
       "      <td>1</td>\n",
       "      <td>0</td>\n",
       "      <td>0</td>\n",
       "      <td>0</td>\n",
       "      <td>0</td>\n",
       "      <td>38</td>\n",
       "      <td>1</td>\n",
       "    </tr>\n",
       "    <tr>\n",
       "      <th>331901</th>\n",
       "      <td>4830</td>\n",
       "      <td>1</td>\n",
       "      <td>0</td>\n",
       "      <td>0</td>\n",
       "      <td>0</td>\n",
       "      <td>0</td>\n",
       "      <td>8</td>\n",
       "      <td>1</td>\n",
       "    </tr>\n",
       "    <tr>\n",
       "      <th>354212</th>\n",
       "      <td>2</td>\n",
       "      <td>0</td>\n",
       "      <td>0</td>\n",
       "      <td>1</td>\n",
       "      <td>0</td>\n",
       "      <td>0</td>\n",
       "      <td>39</td>\n",
       "      <td>1</td>\n",
       "    </tr>\n",
       "  </tbody>\n",
       "</table>\n",
       "<p>66617 rows × 8 columns</p>\n",
       "</div>"
      ],
      "text/plain": [
       "         msrp  trading_partner_cn  ...  line_count  seized\n",
       "407805   3898                   1  ...         277       1\n",
       "413011     15                   0  ...          10       1\n",
       "207877   8400                   0  ...          25       1\n",
       "243055 299000                   0  ...           1       1\n",
       "130540    815                   0  ...           7       1\n",
       "...       ...                 ...  ...         ...     ...\n",
       "15570   39000                   1  ...          12       1\n",
       "233164   1000                   0  ...           4       1\n",
       "287962   2800                   1  ...          38       1\n",
       "331901   4830                   1  ...           8       1\n",
       "354212      2                   0  ...          39       1\n",
       "\n",
       "[66617 rows x 8 columns]"
      ]
     },
     "execution_count": 56,
     "metadata": {},
     "output_type": "execute_result"
    }
   ],
   "source": [
    "from feature_util import write_split\n",
    "\n",
    "write_split(X_train, y_train, ipr_data_processed_df.columns, 'ipr_data_processed_train.csv')\n",
    "write_split(X_test, y_test, ipr_data_processed_df.columns, 'ipr_data_processed_test.csv')\n",
    "write_split(X_cv, y_cv, ipr_data_processed_df.columns, 'ipr_data_processed_cv.csv')"
   ]
  },
  {
   "cell_type": "markdown",
   "metadata": {},
   "source": [
    "## Model Training"
   ]
  },
  {
   "cell_type": "markdown",
   "metadata": {},
   "source": [
    "With the data sets split for training and validation data sets we can now proceed to train our model. Since our dataset is biased toward a single class we'll be training a `OneClassClassifier` model."
   ]
  },
  {
   "cell_type": "code",
   "execution_count": 57,
   "metadata": {},
   "outputs": [
    {
     "data": {
      "text/html": [
       "<style>#sk-container-id-3 {color: black;}#sk-container-id-3 pre{padding: 0;}#sk-container-id-3 div.sk-toggleable {background-color: white;}#sk-container-id-3 label.sk-toggleable__label {cursor: pointer;display: block;width: 100%;margin-bottom: 0;padding: 0.3em;box-sizing: border-box;text-align: center;}#sk-container-id-3 label.sk-toggleable__label-arrow:before {content: \"▸\";float: left;margin-right: 0.25em;color: #696969;}#sk-container-id-3 label.sk-toggleable__label-arrow:hover:before {color: black;}#sk-container-id-3 div.sk-estimator:hover label.sk-toggleable__label-arrow:before {color: black;}#sk-container-id-3 div.sk-toggleable__content {max-height: 0;max-width: 0;overflow: hidden;text-align: left;background-color: #f0f8ff;}#sk-container-id-3 div.sk-toggleable__content pre {margin: 0.2em;color: black;border-radius: 0.25em;background-color: #f0f8ff;}#sk-container-id-3 input.sk-toggleable__control:checked~div.sk-toggleable__content {max-height: 200px;max-width: 100%;overflow: auto;}#sk-container-id-3 input.sk-toggleable__control:checked~label.sk-toggleable__label-arrow:before {content: \"▾\";}#sk-container-id-3 div.sk-estimator input.sk-toggleable__control:checked~label.sk-toggleable__label {background-color: #d4ebff;}#sk-container-id-3 div.sk-label input.sk-toggleable__control:checked~label.sk-toggleable__label {background-color: #d4ebff;}#sk-container-id-3 input.sk-hidden--visually {border: 0;clip: rect(1px 1px 1px 1px);clip: rect(1px, 1px, 1px, 1px);height: 1px;margin: -1px;overflow: hidden;padding: 0;position: absolute;width: 1px;}#sk-container-id-3 div.sk-estimator {font-family: monospace;background-color: #f0f8ff;border: 1px dotted black;border-radius: 0.25em;box-sizing: border-box;margin-bottom: 0.5em;}#sk-container-id-3 div.sk-estimator:hover {background-color: #d4ebff;}#sk-container-id-3 div.sk-parallel-item::after {content: \"\";width: 100%;border-bottom: 1px solid gray;flex-grow: 1;}#sk-container-id-3 div.sk-label:hover label.sk-toggleable__label {background-color: #d4ebff;}#sk-container-id-3 div.sk-serial::before {content: \"\";position: absolute;border-left: 1px solid gray;box-sizing: border-box;top: 0;bottom: 0;left: 50%;z-index: 0;}#sk-container-id-3 div.sk-serial {display: flex;flex-direction: column;align-items: center;background-color: white;padding-right: 0.2em;padding-left: 0.2em;position: relative;}#sk-container-id-3 div.sk-item {position: relative;z-index: 1;}#sk-container-id-3 div.sk-parallel {display: flex;align-items: stretch;justify-content: center;background-color: white;position: relative;}#sk-container-id-3 div.sk-item::before, #sk-container-id-3 div.sk-parallel-item::before {content: \"\";position: absolute;border-left: 1px solid gray;box-sizing: border-box;top: 0;bottom: 0;left: 50%;z-index: -1;}#sk-container-id-3 div.sk-parallel-item {display: flex;flex-direction: column;z-index: 1;position: relative;background-color: white;}#sk-container-id-3 div.sk-parallel-item:first-child::after {align-self: flex-end;width: 50%;}#sk-container-id-3 div.sk-parallel-item:last-child::after {align-self: flex-start;width: 50%;}#sk-container-id-3 div.sk-parallel-item:only-child::after {width: 0;}#sk-container-id-3 div.sk-dashed-wrapped {border: 1px dashed gray;margin: 0 0.4em 0.5em 0.4em;box-sizing: border-box;padding-bottom: 0.4em;background-color: white;}#sk-container-id-3 div.sk-label label {font-family: monospace;font-weight: bold;display: inline-block;line-height: 1.2em;}#sk-container-id-3 div.sk-label-container {text-align: center;}#sk-container-id-3 div.sk-container {/* jupyter's `normalize.less` sets `[hidden] { display: none; }` but bootstrap.min.css set `[hidden] { display: none !important; }` so we also need the `!important` here to be able to override the default hidden behavior on the sphinx rendered scikit-learn.org. See: https://github.com/scikit-learn/scikit-learn/issues/21755 */display: inline-block !important;position: relative;}#sk-container-id-3 div.sk-text-repr-fallback {display: none;}</style><div id=\"sk-container-id-3\" class=\"sk-top-container\"><div class=\"sk-text-repr-fallback\"><pre>OneClassSVM(gamma=&#x27;auto&#x27;)</pre><b>In a Jupyter environment, please rerun this cell to show the HTML representation or trust the notebook. <br />On GitHub, the HTML representation is unable to render, please try loading this page with nbviewer.org.</b></div><div class=\"sk-container\" hidden><div class=\"sk-item\"><div class=\"sk-estimator sk-toggleable\"><input class=\"sk-toggleable__control sk-hidden--visually\" id=\"sk-estimator-id-7\" type=\"checkbox\" checked><label for=\"sk-estimator-id-7\" class=\"sk-toggleable__label sk-toggleable__label-arrow\">OneClassSVM</label><div class=\"sk-toggleable__content\"><pre>OneClassSVM(gamma=&#x27;auto&#x27;)</pre></div></div></div></div></div>"
      ],
      "text/plain": [
       "OneClassSVM(gamma='auto')"
      ]
     },
     "execution_count": 57,
     "metadata": {},
     "output_type": "execute_result"
    }
   ],
   "source": [
    "from feature_util import fit_and_save\n",
    "from sklearn.svm import OneClassSVM\n",
    "\n",
    "model = OneClassSVM(gamma='auto')\n",
    "\n",
    "fit_and_save(model, X_train, 'ipr_model')"
   ]
  }
 ],
 "metadata": {
  "kernelspec": {
   "display_name": "Python 3",
   "language": "python",
   "name": "python3"
  },
  "language_info": {
   "codemirror_mode": {
    "name": "ipython",
    "version": 3
   },
   "file_extension": ".py",
   "mimetype": "text/x-python",
   "name": "python",
   "nbconvert_exporter": "python",
   "pygments_lexer": "ipython3",
   "version": "3.8.2"
  }
 },
 "nbformat": 4,
 "nbformat_minor": 2
}
